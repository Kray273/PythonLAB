{
 "cells": [
  {
   "cell_type": "markdown",
   "id": "8f154121",
   "metadata": {},
   "source": [
    "# Chap01\n",
    "## Python 기본 문법\n",
    "### - 출력문"
   ]
  },
  {
   "cell_type": "code",
   "execution_count": 7,
   "id": "85518dda",
   "metadata": {},
   "outputs": [
    {
     "name": "stdout",
     "output_type": "stream",
     "text": [
      "Hello, Python!\n"
     ]
    }
   ],
   "source": [
    "print(\"Hello, Python!\") # 출력 명령문"
   ]
  },
  {
   "cell_type": "code",
   "execution_count": 10,
   "id": "b1144081",
   "metadata": {},
   "outputs": [
    {
     "name": "stdout",
     "output_type": "stream",
     "text": [
      "Hello, World!!Hqppy Python^^\n",
      "Hello, World!! Hqppy Python^^\n"
     ]
    }
   ],
   "source": [
    "print(\"Hello, World!!\" + \"Hqppy Python^^\") # \"+\"연산자로 문자를 결합해 출력할 수 있지만\n",
    "print(\"Hello, World!!\" , \"Hqppy Python^^\") # \",\"를 통해 결합해 줄 수 있고, 띄어쓰기도 됨."
   ]
  },
  {
   "cell_type": "markdown",
   "id": "91eb437d",
   "metadata": {},
   "source": [
    "### - 연산기능(+, -, *, / )"
   ]
  },
  {
   "cell_type": "code",
   "execution_count": 15,
   "id": "24306de7",
   "metadata": {},
   "outputs": [
    {
     "data": {
      "text/plain": [
       "5"
      ]
     },
     "execution_count": 15,
     "metadata": {},
     "output_type": "execute_result"
    }
   ],
   "source": [
    "3 + 2"
   ]
  },
  {
   "cell_type": "code",
   "execution_count": 20,
   "id": "a67361f1",
   "metadata": {},
   "outputs": [
    {
     "name": "stdout",
     "output_type": "stream",
     "text": [
      "3.14\n",
      "3.14\n"
     ]
    }
   ],
   "source": [
    "print(3.14) #숫자 자료형\n",
    "print(\"3.14\") #문자 자료형"
   ]
  },
  {
   "cell_type": "code",
   "execution_count": 21,
   "id": "944ba608",
   "metadata": {},
   "outputs": [
    {
     "name": "stdout",
     "output_type": "stream",
     "text": [
      "1 3.14 이게 되네?\n"
     ]
    }
   ],
   "source": [
    "print(1,3.14,\"이게 되네?\") # \",\"을 통해 숫자 문자 결합해 출력가능(문자열)"
   ]
  },
  {
   "cell_type": "markdown",
   "id": "b4ab9e13",
   "metadata": {},
   "source": [
    "### - 변수(데이터를 보관하기 위해 할당하는 메모리 공간에 붙여진 이름.)"
   ]
  },
  {
   "cell_type": "markdown",
   "id": "cc6be400",
   "metadata": {},
   "source": [
    "###### # Java : int(정수) , double(실수), char(문자1개 ), boolean(1과0), String(문자2개 이상) \n",
    "###### # 변수 설정시 프로그램의 행동 \n",
    "######    1. 메모리 할당, 2. data type에 대한 정보를 의미, 3.메모리의 크기"
   ]
  },
  {
   "cell_type": "code",
   "execution_count": 26,
   "id": "0071d660",
   "metadata": {},
   "outputs": [],
   "source": [
    "# python에서 기본 자료형이 없다는 의미는 객체로 처리한다(class로 처리). \n",
    "# Java에서는 class를 wrapper_class로 처리(integer a = new interger(5);)\n",
    "    ## wrapperclass란? 기본자료형을 감싸서 객체로 사용가능하도록 지원하는 class\n",
    "# Python에서는 int a = 5;로 받아 들이고 더 업그레이드 되어 \n",
    "a = 5 #와 같이 작성 됨. like java의 String처리 과정과 동일. \n",
    "b = 10"
   ]
  },
  {
   "cell_type": "code",
   "execution_count": 29,
   "id": "3425b115",
   "metadata": {},
   "outputs": [
    {
     "data": {
      "text/plain": [
       "15"
      ]
     },
     "execution_count": 29,
     "metadata": {},
     "output_type": "execute_result"
    }
   ],
   "source": [
    "a + b"
   ]
  },
  {
   "cell_type": "code",
   "execution_count": 33,
   "id": "087ab28b",
   "metadata": {},
   "outputs": [
    {
     "name": "stdout",
     "output_type": "stream",
     "text": [
      "10 20\n"
     ]
    }
   ],
   "source": [
    "# int num1 = 10, num2 = 20;  Java에서 변수 선언과 초기회를 동시에 하는 코드\n",
    "x = 10; y = 20  # \";\"를 통해 한줄에 연속적인 변수 선언을 수행할 수 있다. \n",
    "print(x,y)"
   ]
  },
  {
   "cell_type": "code",
   "execution_count": 35,
   "id": "b14727c7",
   "metadata": {},
   "outputs": [
    {
     "name": "stdout",
     "output_type": "stream",
     "text": [
      "365 272\n"
     ]
    }
   ],
   "source": [
    "x, y = 365, 272 #각각의 값은 매핑할 수 있도록 지원하고 있다. \n",
    "print(x, y)"
   ]
  },
  {
   "cell_type": "code",
   "execution_count": 36,
   "id": "7e58577d",
   "metadata": {},
   "outputs": [
    {
     "name": "stdout",
     "output_type": "stream",
     "text": [
      "272 365\n"
     ]
    }
   ],
   "source": [
    "x, y = y, x #두 변수의 수를 바꾼다.\n",
    "print(x, y)"
   ]
  },
  {
   "cell_type": "code",
   "execution_count": 12,
   "id": "40258084",
   "metadata": {},
   "outputs": [],
   "source": []
  }
 ],
 "metadata": {
  "kernelspec": {
   "display_name": "Python [conda env:tf_cpu] *",
   "language": "python",
   "name": "conda-env-tf_cpu-py"
  },
  "language_info": {
   "codemirror_mode": {
    "name": "ipython",
    "version": 3
   },
   "file_extension": ".py",
   "mimetype": "text/x-python",
   "name": "python",
   "nbconvert_exporter": "python",
   "pygments_lexer": "ipython3",
   "version": "3.7.13"
  }
 },
 "nbformat": 4,
 "nbformat_minor": 5
}
