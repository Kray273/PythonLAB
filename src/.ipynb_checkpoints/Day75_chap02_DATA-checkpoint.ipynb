{
 "cells": [
  {
   "cell_type": "markdown",
   "id": "9e69d886",
   "metadata": {},
   "source": [
    "# 변수명 규칙\n",
    "### - 문자, 숫자,\"_\"가능. 단, 숫자로 시작하할 수 없음.\n",
    "### - 대/소문자를 구별(NUM, num). \n",
    "### - 예약어(키워드) 사용 불가능"
   ]
  },
  {
   "cell_type": "code",
   "execution_count": 2,
   "id": "25eb02b3",
   "metadata": {},
   "outputs": [
    {
     "data": {
      "text/plain": [
       "987654321"
      ]
     },
     "execution_count": 2,
     "metadata": {},
     "output_type": "execute_result"
    }
   ],
   "source": [
    "#변수(정수)\n",
    "a = 123456789\n",
    "b = 987654321\n",
    "a\n",
    "b #마지막에 입력되는 값만 출력"
   ]
  },
  {
   "cell_type": "code",
   "execution_count": 3,
   "id": "fa840ec8",
   "metadata": {},
   "outputs": [
    {
     "name": "stdout",
     "output_type": "stream",
     "text": [
      "123456789\n",
      "987654321\n"
     ]
    }
   ],
   "source": [
    "print(a)\n",
    "print(b) #print 함수를 사용해 모두 출력"
   ]
  },
  {
   "cell_type": "code",
   "execution_count": 5,
   "id": "5e688f27",
   "metadata": {},
   "outputs": [
    {
     "data": {
      "text/plain": [
       "'홍길동'"
      ]
     },
     "execution_count": 5,
     "metadata": {},
     "output_type": "execute_result"
    }
   ],
   "source": [
    "b = \"홍길동\"\n",
    "b #출력하기 전까지 자료형을 알 수 없는 것을 동적형식의 언어(R,Python,JS)/ 그와 반대를 정적형식의 언어(Java)라고 한다."
   ]
  },
  {
   "cell_type": "code",
   "execution_count": 13,
   "id": "c7a540c4",
   "metadata": {},
   "outputs": [
    {
     "name": "stdout",
     "output_type": "stream",
     "text": [
      "<class 'int'>\n",
      "<class 'str'>\n"
     ]
    },
    {
     "data": {
      "text/plain": [
       "str"
      ]
     },
     "execution_count": 13,
     "metadata": {},
     "output_type": "execute_result"
    }
   ],
   "source": [
    "print(type(a)) # DATA의 자료형을 알려주는 함수\n",
    "type(a)\n",
    "print(type(b))\n",
    "type(b) #print 함수가 아니기에 마지막 것만 출력"
   ]
  },
  {
   "cell_type": "code",
   "execution_count": 19,
   "id": "3684944e",
   "metadata": {},
   "outputs": [
    {
     "name": "stdout",
     "output_type": "stream",
     "text": [
      "<class 'float'>\n",
      "<class 'complex'>\n",
      "<class 'bool'>\n",
      "<class 'str'>\n"
     ]
    }
   ],
   "source": [
    "print(type(3.14)) # 'float' Java에서 4bite를 할당할 때 나오는 키워드 \n",
    "print(type(5 + 3j)) # 'complex' 복소수를 표시해준다. \n",
    "print(type(True)) #' bool' boolean값은 표시_대소문자를 구분한다(R은 전부 대문자로 작성해야함)\n",
    "print(type(\"홍\")) # 'str'"
   ]
  },
  {
   "cell_type": "markdown",
   "id": "d7df67f6",
   "metadata": {},
   "source": [
    "## 연산자( +, -, *, /, %, //, **)"
   ]
  },
  {
   "cell_type": "code",
   "execution_count": 24,
   "id": "d15bd788",
   "metadata": {},
   "outputs": [
    {
     "name": "stdout",
     "output_type": "stream",
     "text": [
      "7\n",
      "<class 'int'>\n"
     ]
    }
   ],
   "source": [
    "a = 3+4\n",
    "print(a)\n",
    "print(type(a))"
   ]
  },
  {
   "cell_type": "code",
   "execution_count": 25,
   "id": "146416e7",
   "metadata": {},
   "outputs": [
    {
     "name": "stdout",
     "output_type": "stream",
     "text": [
      "-1\n",
      "<class 'int'>\n"
     ]
    }
   ],
   "source": [
    "a = 3-4\n",
    "print(a)\n",
    "print(type(a))"
   ]
  },
  {
   "cell_type": "code",
   "execution_count": 23,
   "id": "c7fd660b",
   "metadata": {},
   "outputs": [
    {
     "name": "stdout",
     "output_type": "stream",
     "text": [
      "12\n",
      "<class 'int'>\n"
     ]
    }
   ],
   "source": [
    "a = 3*4\n",
    "print(a)\n",
    "print(type(a))"
   ]
  },
  {
   "cell_type": "code",
   "execution_count": 20,
   "id": "512fe3b5",
   "metadata": {},
   "outputs": [
    {
     "name": "stdout",
     "output_type": "stream",
     "text": [
      "0.75\n",
      "<class 'float'>\n"
     ]
    }
   ],
   "source": [
    "a = 3/4\n",
    "print(a)\n",
    "print(type(a))"
   ]
  },
  {
   "cell_type": "code",
   "execution_count": 21,
   "id": "1bf511d1",
   "metadata": {},
   "outputs": [
    {
     "name": "stdout",
     "output_type": "stream",
     "text": [
      "3\n",
      "<class 'int'>\n"
     ]
    }
   ],
   "source": [
    "a = 3%4\n",
    "print(a)\n",
    "print(type(a))"
   ]
  },
  {
   "cell_type": "code",
   "execution_count": 22,
   "id": "84c45fef",
   "metadata": {},
   "outputs": [
    {
     "name": "stdout",
     "output_type": "stream",
     "text": [
      "0\n",
      "<class 'int'>\n"
     ]
    }
   ],
   "source": [
    "a = 33//4 # 몫 반환 연산자\n",
    "print(a)\n",
    "print(type(a))"
   ]
  },
  {
   "cell_type": "code",
   "execution_count": 26,
   "id": "99c303db",
   "metadata": {
    "scrolled": true
   },
   "outputs": [
    {
     "name": "stdout",
     "output_type": "stream",
     "text": [
      "16\n",
      "<class 'int'>\n"
     ]
    }
   ],
   "source": [
    "a = 2**4 #2^4  제곱연산자\n",
    "print(a)\n",
    "print(type(a))"
   ]
  },
  {
   "cell_type": "code",
   "execution_count": 28,
   "id": "0e8c5a04",
   "metadata": {},
   "outputs": [
    {
     "name": "stdout",
     "output_type": "stream",
     "text": [
      "12345678901234567890123456789012345678901234567890123456789012345678901234567890123456789012345678901234567890\n"
     ]
    }
   ],
   "source": [
    "x = 12345678901234567890123456789012345678901234567890123456789012345678901234567890123456789012345678901234567890\n",
    "print(x) #메모리의 크기가 허용할 떄 까지 값을 표현할 수 있다.  "
   ]
  },
  {
   "cell_type": "code",
   "execution_count": 30,
   "id": "aa353e0b",
   "metadata": {},
   "outputs": [
    {
     "name": "stdout",
     "output_type": "stream",
     "text": [
      "0xff\n",
      "0xe\n"
     ]
    }
   ],
   "source": [
    "print(hex(255)) #10진수의 값을 16진수로 표시\n",
    "print(hex(14)) # Ox 는 16진수라는 의미"
   ]
  },
  {
   "cell_type": "code",
   "execution_count": 1,
   "id": "a0f413f1",
   "metadata": {},
   "outputs": [
    {
     "name": "stdout",
     "output_type": "stream",
     "text": [
      "10\n"
     ]
    }
   ],
   "source": [
    "a = 0b1010 # 0b는 2진수를 의미\n",
    "print(a)"
   ]
  },
  {
   "cell_type": "code",
   "execution_count": 3,
   "id": "69d36ab3",
   "metadata": {},
   "outputs": [
    {
     "name": "stdout",
     "output_type": "stream",
     "text": [
      "0.10000000000000142\n"
     ]
    }
   ],
   "source": [
    "x = 43.2 - 43.1\n",
    "print(x) #오차가 나는 이유는 실수 안에는 무한대의 수가 있어서 세계의 석학들이 프로그램을 구성할 때 알고리즘을 만들어 놔서"
   ]
  },
  {
   "cell_type": "code",
   "execution_count": 6,
   "id": "03234080",
   "metadata": {},
   "outputs": [
    {
     "name": "stdout",
     "output_type": "stream",
     "text": [
      "\n",
      "헌법재판소의 조직과 운영 기타 필요한 사항은 법률로 정한다.\n",
      "제1항의 지시를 받은 당해 행정기관은 이에 응하여야 한다. 헌법재판소 재판관의 임기는 6년으로 하며, \n",
      "법률이 정하는 바에 의하여 연임할 수 있다.\n",
      "모든 국민은 자기의 행위가 아닌 친족의 행위로 인하여 불이익한 처우를 받지 아니한다.\n",
      "이 헌법공포 당시의 국회의원의 임기는 제1항에 의한 국회의 최초의 집회일 전일까지로 한다\n",
      "\n",
      "<class 'str'>\n"
     ]
    }
   ],
   "source": [
    "str = \"\"\"\n",
    "헌법재판소의 조직과 운영 기타 필요한 사항은 법률로 정한다.\n",
    "제1항의 지시를 받은 당해 행정기관은 이에 응하여야 한다. 헌법재판소 재판관의 임기는 6년으로 하며, \n",
    "법률이 정하는 바에 의하여 연임할 수 있다.\n",
    "모든 국민은 자기의 행위가 아닌 친족의 행위로 인하여 불이익한 처우를 받지 아니한다.\n",
    "이 헌법공포 당시의 국회의원의 임기는 제1항에 의한 국회의 최초의 집회일 전일까지로 한다\n",
    "\"\"\" # 여러 라인의 텍스트를 문자열로 처리하기 위해서 \"\"\"\"\"\"를 사용하면 된다. \n",
    "print(str)\n",
    "print(type(str))"
   ]
  },
  {
   "cell_type": "code",
   "execution_count": 8,
   "id": "95a321aa",
   "metadata": {},
   "outputs": [
    {
     "name": "stdout",
     "output_type": "stream",
     "text": [
      "5\n"
     ]
    }
   ],
   "source": [
    "int = 5\n",
    "print(int) #Java와 다르게 참조변수에 int등의 기본 자료형을 작성할 수는 있지만 가독성을 위해 안쓰는것을 추천한다. "
   ]
  },
  {
   "cell_type": "code",
   "execution_count": 10,
   "id": "7556cb2d",
   "metadata": {},
   "outputs": [
    {
     "name": "stdout",
     "output_type": "stream",
     "text": [
      "Python\n",
      "Py thon\n",
      "Python\n"
     ]
    }
   ],
   "source": [
    "print(\"Py\" + \"thon\")\n",
    "print(\"Py\" , \"thon\")\n",
    "print(\"Py\"\"thon\") #띄어쓰기 없이 출력"
   ]
  },
  {
   "cell_type": "code",
   "execution_count": 12,
   "id": "e47b36ab",
   "metadata": {},
   "outputs": [
    {
     "name": "stdout",
     "output_type": "stream",
     "text": [
      "Hello, World!!!\n"
     ]
    }
   ],
   "source": [
    "hello = \"Hello, \"\n",
    "world = \"World!!!\"\n",
    "helloWorld = hello + world\n",
    "print(helloWorld)"
   ]
  },
  {
   "cell_type": "code",
   "execution_count": 14,
   "id": "bd6e40b5",
   "metadata": {},
   "outputs": [
    {
     "ename": "TypeError",
     "evalue": "can only concatenate str (not \"int\") to str",
     "output_type": "error",
     "traceback": [
      "\u001b[1;31m---------------------------------------------------------------------------\u001b[0m",
      "\u001b[1;31mTypeError\u001b[0m                                 Traceback (most recent call last)",
      "\u001b[1;32m~\\AppData\\Local\\Temp\\ipykernel_117512\\3472664056.py\u001b[0m in \u001b[0;36m<module>\u001b[1;34m\u001b[0m\n\u001b[0;32m      1\u001b[0m \u001b[0mage\u001b[0m \u001b[1;33m=\u001b[0m \u001b[1;36m25\u001b[0m\u001b[1;33m\u001b[0m\u001b[1;33m\u001b[0m\u001b[0m\n\u001b[0;32m      2\u001b[0m \u001b[0mstr\u001b[0m \u001b[1;33m=\u001b[0m \u001b[1;34m\"이건 안되네?\"\u001b[0m\u001b[1;33m\u001b[0m\u001b[1;33m\u001b[0m\u001b[0m\n\u001b[1;32m----> 3\u001b[1;33m \u001b[0mprint\u001b[0m\u001b[1;33m(\u001b[0m\u001b[0mstr\u001b[0m \u001b[1;33m+\u001b[0m \u001b[0mage\u001b[0m\u001b[1;33m)\u001b[0m \u001b[1;31m#Java에서는 가능하지만 여기서는 에러를 낸다. 숫자와 문자의 연산은 안된다는 식으로 개발.\u001b[0m\u001b[1;33m\u001b[0m\u001b[1;33m\u001b[0m\u001b[0m\n\u001b[0m",
      "\u001b[1;31mTypeError\u001b[0m: can only concatenate str (not \"int\") to str"
     ]
    }
   ],
   "source": [
    "age = 25\n",
    "str = \"이건 안되네?\"\n",
    "print(str + age) #Java에서는 가능하지만 여기서는 error. 숫자와 문자의 연산은 허용하지 않음."
   ]
  },
  {
   "cell_type": "code",
   "execution_count": 16,
   "id": "226b5473",
   "metadata": {},
   "outputs": [
    {
     "name": "stdout",
     "output_type": "stream",
     "text": [
      "Python Python Python \n"
     ]
    }
   ],
   "source": [
    "print(\"Python \" * 3) #Java와 다르게 여기서는 3번 출력하는 식으로 출력."
   ]
  },
  {
   "cell_type": "code",
   "execution_count": 20,
   "id": "3726e104",
   "metadata": {},
   "outputs": [
    {
     "name": "stdout",
     "output_type": "stream",
     "text": [
      "Good M\n",
      "Mornin\n"
     ]
    }
   ],
   "source": [
    "s = \"Good Morning\"\n",
    "print(s[0:6])\n",
    "print(s[5:11])"
   ]
  },
  {
   "cell_type": "code",
   "execution_count": 21,
   "id": "66003067",
   "metadata": {},
   "outputs": [
    {
     "name": "stdout",
     "output_type": "stream",
     "text": [
      "Good\n"
     ]
    }
   ],
   "source": [
    "a = s[:4] #a = s[0:4]\n",
    "print(a)"
   ]
  },
  {
   "cell_type": "code",
   "execution_count": 22,
   "id": "1867abdf",
   "metadata": {},
   "outputs": [
    {
     "name": "stdout",
     "output_type": "stream",
     "text": [
      "Morning\n"
     ]
    }
   ],
   "source": [
    "a = s[5:] #a = s[5:12]\n",
    "print(a)"
   ]
  },
  {
   "cell_type": "code",
   "execution_count": 25,
   "id": "e51561af",
   "metadata": {},
   "outputs": [
    {
     "name": "stdout",
     "output_type": "stream",
     "text": [
      "ing\n"
     ]
    }
   ],
   "source": [
    "a = s[-3:] # \"-\"은 R은 제외하고, Java는 error, Python은 뒤에서 부터 카운트. \n",
    "print(a)"
   ]
  },
  {
   "cell_type": "code",
   "execution_count": 26,
   "id": "7eac4a15",
   "metadata": {},
   "outputs": [
    {
     "name": "stdout",
     "output_type": "stream",
     "text": [
      "Go onn\n"
     ]
    }
   ],
   "source": [
    "a = s[::2] # 시작 : 끝 : 건너뛰고\n",
    "print(a)"
   ]
  },
  {
   "cell_type": "code",
   "execution_count": 27,
   "id": "626d76d9",
   "metadata": {},
   "outputs": [
    {
     "name": "stdout",
     "output_type": "stream",
     "text": [
      "o\n"
     ]
    }
   ],
   "source": [
    "a = s[2] # 특정 문자열 인덱스 반환\n",
    "print(a)"
   ]
  },
  {
   "cell_type": "code",
   "execution_count": 29,
   "id": "02ffc5b3",
   "metadata": {},
   "outputs": [
    {
     "name": "stdout",
     "output_type": "stream",
     "text": [
      "True\n",
      "False\n",
      "True\n",
      "False\n"
     ]
    }
   ],
   "source": [
    "print('M' in s) #단어를 검색할 수 있다.\n",
    "print('a' in s)\n",
    "print('Good' in s)\n",
    "print('morning' in s) #대소문자 구분"
   ]
  },
  {
   "cell_type": "code",
   "execution_count": 30,
   "id": "31da6278",
   "metadata": {},
   "outputs": [
    {
     "name": "stdout",
     "output_type": "stream",
     "text": [
      "12\n"
     ]
    }
   ],
   "source": [
    "print(len(s)) #Python만 문자열의 길이를 len으로 표시"
   ]
  },
  {
   "cell_type": "code",
   "execution_count": 34,
   "id": "a5ceea73",
   "metadata": {},
   "outputs": [
    {
     "data": {
      "text/plain": [
       "4"
      ]
     },
     "execution_count": 34,
     "metadata": {},
     "output_type": "execute_result"
    }
   ],
   "source": [
    "str = \"How do you do, how do you do\"\n",
    "str.count(\"do\")"
   ]
  },
  {
   "cell_type": "code",
   "execution_count": 35,
   "id": "e19ee689",
   "metadata": {},
   "outputs": [
    {
     "data": {
      "text/plain": [
       "4"
      ]
     },
     "execution_count": 35,
     "metadata": {},
     "output_type": "execute_result"
    }
   ],
   "source": [
    "\"How do you do, how do you do\".count(\"do\") #위와 동일 \".\"을 이용한 Method Chaining방식(R은 $)"
   ]
  },
  {
   "cell_type": "code",
   "execution_count": null,
   "id": "c4ddb779",
   "metadata": {},
   "outputs": [],
   "source": []
  }
 ],
 "metadata": {
  "kernelspec": {
   "display_name": "Python [conda env:tf_cpu] *",
   "language": "python",
   "name": "conda-env-tf_cpu-py"
  },
  "language_info": {
   "codemirror_mode": {
    "name": "ipython",
    "version": 3
   },
   "file_extension": ".py",
   "mimetype": "text/x-python",
   "name": "python",
   "nbconvert_exporter": "python",
   "pygments_lexer": "ipython3",
   "version": "3.7.13"
  }
 },
 "nbformat": 4,
 "nbformat_minor": 5
}
