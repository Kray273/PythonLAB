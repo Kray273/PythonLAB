{
 "cells": [
  {
   "cell_type": "markdown",
   "id": "25da56ed",
   "metadata": {},
   "source": [
    "# 함수"
   ]
  },
  {
   "cell_type": "markdown",
   "id": "3fb94038",
   "metadata": {},
   "source": [
    "##### JS의 경우 function()을 통해 이름이 있는 함수(선언적  함수)와 이름이 없는 함수(Anonymous Functions) 정의\n",
    "##### R의 경우도 function()으로 함수를 정의, 인수를 통해 호출"
   ]
  },
  {
   "cell_type": "code",
   "execution_count": 1,
   "id": "47c48845",
   "metadata": {},
   "outputs": [
    {
     "name": "stdout",
     "output_type": "stream",
     "text": [
      "Hello Python!!\n"
     ]
    }
   ],
   "source": [
    "# Python 함수 정의 방법\n",
    "def hello() :\n",
    "    print(\"Hello Python!!\")\n",
    "    \n",
    "hello() # 호출 방법"
   ]
  },
  {
   "cell_type": "code",
   "execution_count": 4,
   "id": "2885eb70",
   "metadata": {},
   "outputs": [
    {
     "ename": "TypeError",
     "evalue": "my_abs() missing 1 required positional argument: 'arg'",
     "output_type": "error",
     "traceback": [
      "\u001b[1;31m---------------------------------------------------------------------------\u001b[0m",
      "\u001b[1;31mTypeError\u001b[0m                                 Traceback (most recent call last)",
      "\u001b[1;32m~\\AppData\\Local\\Temp\\ipykernel_127460\\2805718867.py\u001b[0m in \u001b[0;36m<module>\u001b[1;34m\u001b[0m\n\u001b[0;32m      8\u001b[0m     \u001b[1;32mreturn\u001b[0m \u001b[0mresult\u001b[0m\u001b[1;33m\u001b[0m\u001b[1;33m\u001b[0m\u001b[0m\n\u001b[0;32m      9\u001b[0m \u001b[1;33m\u001b[0m\u001b[0m\n\u001b[1;32m---> 10\u001b[1;33m \u001b[0mmy_abs\u001b[0m\u001b[1;33m(\u001b[0m\u001b[1;33m)\u001b[0m\u001b[1;33m\u001b[0m\u001b[1;33m\u001b[0m\u001b[0m\n\u001b[0m",
      "\u001b[1;31mTypeError\u001b[0m: my_abs() missing 1 required positional argument: 'arg'"
     ]
    }
   ],
   "source": [
    "# 호출과 반환\n",
    "def my_abs(arg):\n",
    "    if(arg < 0) :\n",
    "        result = arg * -1\n",
    "    else : \n",
    "        result = arg\n",
    "    \n",
    "    return result\n",
    "\n",
    "my_abs()"
   ]
  },
  {
   "cell_type": "code",
   "execution_count": 6,
   "id": "60ab3c3f",
   "metadata": {},
   "outputs": [
    {
     "data": {
      "text/plain": [
       "40"
      ]
     },
     "execution_count": 6,
     "metadata": {},
     "output_type": "execute_result"
    }
   ],
   "source": [
    "my_abs(-40)"
   ]
  },
  {
   "cell_type": "code",
   "execution_count": 7,
   "id": "127db74f",
   "metadata": {},
   "outputs": [
    {
     "name": "stdout",
     "output_type": "stream",
     "text": [
      "<function my_abs at 0x000002BBF6FD8168>\n"
     ]
    }
   ],
   "source": [
    "print(my_abs) #할당된 주소값 반환(16진법), Java에서는 주소값이 아닌 toString을 반환함. "
   ]
  },
  {
   "cell_type": "code",
   "execution_count": 8,
   "id": "34fe4787",
   "metadata": {},
   "outputs": [
    {
     "name": "stdout",
     "output_type": "stream",
     "text": [
      "가보자고\n",
      "가보자고\n",
      "가보자고\n"
     ]
    }
   ],
   "source": [
    "# 인자(argument) 이름의 올바른 예 \n",
    "\n",
    "def print_string1(text, count) : \n",
    "    for i in range(count) :\n",
    "        print(text)\n",
    "\n",
    "print_string1('가보자고', 3)"
   ]
  },
  {
   "cell_type": "code",
   "execution_count": 13,
   "id": "1d497534",
   "metadata": {},
   "outputs": [
    {
     "name": "stdout",
     "output_type": "stream",
     "text": [
      "가보자고\n"
     ]
    }
   ],
   "source": [
    "# 기본값 인자(argument)\n",
    "\n",
    "def print_string1(text, count =1) : #기본값을 지정할 수 있다. R에서의 스킴과 \n",
    "    for i in range(count) :\n",
    "        print(text)\n",
    "\n",
    "print_string1('가보자고')"
   ]
  },
  {
   "cell_type": "markdown",
   "id": "fb524314",
   "metadata": {},
   "source": [
    "### - 키워드 인자(Keyword Argument)\n",
    "##### : 호출자가 매개변수의 이름을 일일이 지정해 데이터를 입력하는 것"
   ]
  },
  {
   "cell_type": "code",
   "execution_count": 18,
   "id": "e2cd9329",
   "metadata": {},
   "outputs": [
    {
     "name": "stdout",
     "output_type": "stream",
     "text": [
      "name = Sava\n",
      "position = student\n",
      "nationality = EUR\n"
     ]
    }
   ],
   "source": [
    "def print_personnel(name, position = 'staff', nationality = 'KOR' ) : \n",
    "    print('name = {0}'.format(name))\n",
    "    print('position = {0}'.format(position))    \n",
    "    print('nationality = {0}'.format(nationality))\n",
    "    \n",
    "print_personnel('Sava','student','EUR')"
   ]
  },
  {
   "cell_type": "code",
   "execution_count": 19,
   "id": "28afa25f",
   "metadata": {},
   "outputs": [
    {
     "name": "stdout",
     "output_type": "stream",
     "text": [
      "name = Java\n",
      "position = student\n",
      "nationality = KOR\n"
     ]
    }
   ],
   "source": [
    "print_personnel('Java','student')"
   ]
  },
  {
   "cell_type": "code",
   "execution_count": 21,
   "id": "232cdd7c",
   "metadata": {},
   "outputs": [
    {
     "name": "stdout",
     "output_type": "stream",
     "text": [
      "name = Kava\n",
      "position = staff\n",
      "nationality = KOR\n"
     ]
    }
   ],
   "source": [
    "print_personnel(name = \"Kava\")"
   ]
  },
  {
   "cell_type": "code",
   "execution_count": 23,
   "id": "f320086a",
   "metadata": {},
   "outputs": [
    {
     "name": "stdout",
     "output_type": "stream",
     "text": [
      "name = Nava\n",
      "position = staff\n",
      "nationality = IOC\n"
     ]
    }
   ],
   "source": [
    "print_personnel(nationality='IOC',name = \"Nava\") #키워드를 지정해주면, 순서는 상관 없다. But R과 달이 축약은 안됨."
   ]
  },
  {
   "cell_type": "markdown",
   "id": "18051ba5",
   "metadata": {},
   "source": [
    "### - 가변 매개 변수(Arbitrary Argument List)"
   ]
  },
  {
   "cell_type": "code",
   "execution_count": 24,
   "id": "32c75110",
   "metadata": {},
   "outputs": [
    {
     "name": "stdout",
     "output_type": "stream",
     "text": [
      "<class 'tuple'>\n",
      "아버지가방에들어간다\n"
     ]
    }
   ],
   "source": [
    "def merge_string(*text_list) : \n",
    "    print(type(text_list)) # tuple은 값을 변화시키지 않는다. \n",
    "    \n",
    "    result = ''\n",
    "    for s in text_list :\n",
    "        result += s\n",
    "        \n",
    "    return result\n",
    "\n",
    "print(merge_string('아버지','가방에','들어간다'))"
   ]
  },
  {
   "cell_type": "code",
   "execution_count": 30,
   "id": "f16a42a8",
   "metadata": {},
   "outputs": [
    {
     "name": "stdout",
     "output_type": "stream",
     "text": [
      "<class 'dict'>\n",
      "축구 = 손흥민\n",
      "농구 = 장태풍\n",
      "야구 = 박찬호\n",
      "None\n"
     ]
    }
   ],
   "source": [
    "def print_team(**players) : \n",
    "    print(type(players))\n",
    "    \n",
    "    for k in players.keys() : \n",
    "        print('{0} = {1}'.format(k,players[k]))\n",
    "        \n",
    "print_team(축구='손흥민',농구 ='장태풍', 야구 = '박찬호')"
   ]
  },
  {
   "cell_type": "code",
   "execution_count": 41,
   "id": "69280503",
   "metadata": {},
   "outputs": [],
   "source": [
    "def print_arga1(argc, *argv) : \n",
    "    for i in range(argc) :\n",
    "        print(argv[i])"
   ]
  },
  {
   "cell_type": "code",
   "execution_count": 39,
   "id": "586add82",
   "metadata": {},
   "outputs": [
    {
     "name": "stdout",
     "output_type": "stream",
     "text": [
      "누구나\n",
      "한번쯤\n",
      "눈물을\n"
     ]
    }
   ],
   "source": [
    "print_arga1(3,'누구나','한번쯤','눈물을','...')"
   ]
  },
  {
   "cell_type": "code",
   "execution_count": 34,
   "id": "6a43c676",
   "metadata": {},
   "outputs": [
    {
     "ename": "SyntaxError",
     "evalue": "positional argument follows keyword argument (2280328043.py, line 1)",
     "output_type": "error",
     "traceback": [
      "\u001b[1;36m  File \u001b[1;32m\"C:\\Users\\tjouen-jr\\AppData\\Local\\Temp\\ipykernel_127460\\2280328043.py\"\u001b[1;36m, line \u001b[1;32m1\u001b[0m\n\u001b[1;33m    print_arga1(argc=3,'누구나','한번쯤','눈물을','...')\u001b[0m\n\u001b[1;37m                      ^\u001b[0m\n\u001b[1;31mSyntaxError\u001b[0m\u001b[1;31m:\u001b[0m positional argument follows keyword argument\n"
     ]
    }
   ],
   "source": [
    "#주의\n",
    "print_arga1(argc=3,'누구나','한번쯤','눈물을','...') # Error 가변매개변수가 나머지 인자들을 봐야하는데 그것은 어렵다.  "
   ]
  },
  {
   "cell_type": "code",
   "execution_count": 37,
   "id": "22991a57",
   "metadata": {},
   "outputs": [
    {
     "ename": "SyntaxError",
     "evalue": "keyword argument repeated (2548584758.py, line 2)",
     "output_type": "error",
     "traceback": [
      "\u001b[1;36m  File \u001b[1;32m\"C:\\Users\\tjouen-jr\\AppData\\Local\\Temp\\ipykernel_127460\\2548584758.py\"\u001b[1;36m, line \u001b[1;32m2\u001b[0m\n\u001b[1;33m    print_arga1(argc=3,argv='누구나',argv='한번쯤',argv='눈물을',argv='...') # Error\u001b[0m\n\u001b[1;37m                                       ^\u001b[0m\n\u001b[1;31mSyntaxError\u001b[0m\u001b[1;31m:\u001b[0m keyword argument repeated\n"
     ]
    }
   ],
   "source": [
    "#주의\n",
    "print_arga1(argc=3,argv='누구나',argv='한번쯤',argv='눈물을',argv='...') # Error 키워드는 반복될 수 없다. "
   ]
  },
  {
   "cell_type": "code",
   "execution_count": 42,
   "id": "51dfc4c0",
   "metadata": {},
   "outputs": [],
   "source": [
    "def print_arga2(*argv, argc) : \n",
    "    for i in range(argc) :\n",
    "        print(argv[i])"
   ]
  },
  {
   "cell_type": "code",
   "execution_count": 45,
   "id": "14c7cc55",
   "metadata": {},
   "outputs": [
    {
     "ename": "TypeError",
     "evalue": "print_arga2() missing 1 required keyword-only argument: 'argc'",
     "output_type": "error",
     "traceback": [
      "\u001b[1;31m---------------------------------------------------------------------------\u001b[0m",
      "\u001b[1;31mTypeError\u001b[0m                                 Traceback (most recent call last)",
      "\u001b[1;32m~\\AppData\\Local\\Temp\\ipykernel_127460\\3168785223.py\u001b[0m in \u001b[0;36m<module>\u001b[1;34m\u001b[0m\n\u001b[1;32m----> 1\u001b[1;33m \u001b[0mprint_arga2\u001b[0m\u001b[1;33m(\u001b[0m\u001b[1;34m'누구나'\u001b[0m\u001b[1;33m,\u001b[0m\u001b[1;34m'한번쯤'\u001b[0m\u001b[1;33m,\u001b[0m\u001b[1;34m'눈물을'\u001b[0m\u001b[1;33m,\u001b[0m\u001b[1;34m'...'\u001b[0m\u001b[1;33m,\u001b[0m \u001b[1;36m3\u001b[0m\u001b[1;33m)\u001b[0m \u001b[1;31m#Error 어디까지가 가변인자 인줄 모른다.\u001b[0m\u001b[1;33m\u001b[0m\u001b[1;33m\u001b[0m\u001b[0m\n\u001b[0m",
      "\u001b[1;31mTypeError\u001b[0m: print_arga2() missing 1 required keyword-only argument: 'argc'"
     ]
    }
   ],
   "source": [
    "print_arga2('누구나','한번쯤','눈물을','...', 3) #Error 어디까지가 가변인자 인줄 모른다."
   ]
  },
  {
   "cell_type": "code",
   "execution_count": 46,
   "id": "5ab6b61e",
   "metadata": {},
   "outputs": [
    {
     "name": "stdout",
     "output_type": "stream",
     "text": [
      "누구나\n",
      "한번쯤\n",
      "눈물을\n"
     ]
    }
   ],
   "source": [
    "print_arga2('누구나','한번쯤','눈물을','...',argc=3)"
   ]
  },
  {
   "cell_type": "code",
   "execution_count": 49,
   "id": "cee97f46",
   "metadata": {},
   "outputs": [
    {
     "name": "stdout",
     "output_type": "stream",
     "text": [
      "6\n"
     ]
    }
   ],
   "source": [
    "# 호출자에게 반환하기\n",
    "\n",
    "def multiply(x1, x2) : \n",
    "    return x1 * x2  # return의 기능 1. 함수를 즉시 종료/ 2. 호출자에게 결과 전달  \n",
    "\n",
    "result = multiply(2,3)\n",
    "print(result)"
   ]
  },
  {
   "cell_type": "code",
   "execution_count": 50,
   "id": "58c21c44",
   "metadata": {},
   "outputs": [],
   "source": [
    "# 한 함수 안에 여러 개의 return배치 가능\n",
    "\n",
    "def my_abs1(arg) :\n",
    "    if arg < 0 :\n",
    "        return arg * -1\n",
    "    else : \n",
    "        return arg "
   ]
  },
  {
   "cell_type": "code",
   "execution_count": 52,
   "id": "06366612",
   "metadata": {},
   "outputs": [
    {
     "name": "stdout",
     "output_type": "stream",
     "text": [
      "10\n"
     ]
    }
   ],
   "source": [
    "result = my_abs1(-10)\n",
    "print(result)"
   ]
  },
  {
   "cell_type": "code",
   "execution_count": 58,
   "id": "d996e187",
   "metadata": {},
   "outputs": [
    {
     "name": "stdout",
     "output_type": "stream",
     "text": [
      "None\n",
      "<class 'NoneType'>\n"
     ]
    }
   ],
   "source": [
    "# 주의 사항\n",
    "def my_abs2(arg) :\n",
    "    if arg < 0 :\n",
    "        return arg * -1\n",
    "    elif arg > 0 :\n",
    "        return arg\n",
    "\n",
    "result = my_abs2(0)\n",
    "print(result) # 해당하는 return값이 없어서 None 반환\n",
    "print(type(result))"
   ]
  },
  {
   "cell_type": "code",
   "execution_count": 65,
   "id": "497a60f3",
   "metadata": {},
   "outputs": [
    {
     "name": "stdout",
     "output_type": "stream",
     "text": [
      "1\n",
      "2\n",
      "3\n"
     ]
    }
   ],
   "source": [
    "def print_something(*args) : #  return의 기능 3. 반환 결과가 없고, 함수 중간에 종료 시킬 일도 없을 때 return생략 가능  \n",
    "    for s in args : \n",
    "        print(s)\n",
    "\n",
    "print_something(1,2,3)"
   ]
  },
  {
   "cell_type": "markdown",
   "id": "5e3a4afc",
   "metadata": {},
   "source": [
    "### - 변수의 유효 범위(scope)"
   ]
  },
  {
   "cell_type": "code",
   "execution_count": 72,
   "id": "551d1dc6",
   "metadata": {},
   "outputs": [
    {
     "name": "stdout",
     "output_type": "stream",
     "text": [
      "x : 1\n",
      "x : 0\n"
     ]
    }
   ],
   "source": [
    "def scope_test1() :\n",
    "    x = 1                      #Local variable, 함수 호출시에 메모리에 생성.\n",
    "    print('x : {0}'.format(x))\n",
    "    \n",
    "x = 0                          #함수 외부의 변수 선언\n",
    "scope_test1()\n",
    "print('x : {0}'.format(x))     #함수안의 x와 동일 이름이여도 같은 변수가 아니다. "
   ]
  },
  {
   "cell_type": "code",
   "execution_count": 79,
   "id": "fcbb13e5",
   "metadata": {},
   "outputs": [
    {
     "name": "stdout",
     "output_type": "stream",
     "text": [
      "x : 0\n",
      "x : 1\n",
      "x : 1\n"
     ]
    }
   ],
   "source": [
    "def scope_test2() :\n",
    "    global x                   #Global variable : 지역변수, 전역변수의 생성을 막는다.\n",
    "    x = 1                      # 함수 호출 시 메모리 할당  \n",
    "    print('x : {0}'.format(x))\n",
    "\n",
    "x = 0                          # 함수 외부 변수 선언.\n",
    "print('x : {0}'.format(x))     # 함수가 아직 호출 되지 않았기에 0을 출력\n",
    "scope_test2()\n",
    "print('x : {0}'.format(x))     # Global 변수가 우선권을 갖는다."
   ]
  },
  {
   "cell_type": "code",
   "execution_count": 1,
   "id": "f2b8b099",
   "metadata": {},
   "outputs": [
    {
     "name": "stdout",
     "output_type": "stream",
     "text": [
      "123\n"
     ]
    }
   ],
   "source": [
    "# 함수를 변수에 담아 사용\n",
    "def print_something(x) : \n",
    "    print(x)\n",
    "    \n",
    "print_something(123)"
   ]
  },
  {
   "cell_type": "code",
   "execution_count": 7,
   "id": "41de4da9",
   "metadata": {},
   "outputs": [
    {
     "name": "stdout",
     "output_type": "stream",
     "text": [
      "456\n",
      "\"abc\"\n"
     ]
    }
   ],
   "source": [
    "p = print_something\n",
    "p(456)\n",
    "p('\"abc\"')"
   ]
  },
  {
   "cell_type": "code",
   "execution_count": 13,
   "id": "dba4ad25",
   "metadata": {},
   "outputs": [
    {
     "name": "stdout",
     "output_type": "stream",
     "text": [
      "6\n",
      "3\n"
     ]
    }
   ],
   "source": [
    "# 순서열(리스트, 튜블) / 딕셔너리에도 변수로 담아보기 \n",
    "\n",
    "def plus(x, y) :\n",
    "    return x + y\n",
    "\n",
    "def minus(x, y) :\n",
    "    return x - y\n",
    "\n",
    "flist = [plus, minus]\n",
    "print(flist[0](4,2)) #plus(1,2)와 동일\n",
    "print(flist[1](5,2)) #minus(5,2)와 동일"
   ]
  },
  {
   "cell_type": "code",
   "execution_count": 15,
   "id": "0dac5ee0",
   "metadata": {},
   "outputs": [
    {
     "name": "stdout",
     "output_type": "stream",
     "text": [
      "Hi?\n",
      "bye?\n"
     ]
    }
   ],
   "source": [
    "# 함수의 매개변수에 함수 전달 기능\n",
    "\n",
    "def hello_hi(): \n",
    "    print('Hi?')\n",
    "\n",
    "def hello_bye() : \n",
    "    print(\"bye?\")\n",
    "    \n",
    "def greet(hello) :\n",
    "    hello()\n",
    "    \n",
    "greet(hello_hi) # hello_hi() 호출\n",
    "greet(hello_bye) # hello_bye() 호출"
   ]
  },
  {
   "cell_type": "code",
   "execution_count": 20,
   "id": "5b57c35d",
   "metadata": {},
   "outputs": [
    {
     "name": "stdout",
     "output_type": "stream",
     "text": [
      "Hi?\n",
      "bye?\n"
     ]
    }
   ],
   "source": [
    "# 함수 내에서 함수를 반환\n",
    "\n",
    "def get_greeting(where) : \n",
    "    if where == 'H' : \n",
    "        return hello_hi\n",
    "    else :\n",
    "        return hello_bye\n",
    "    \n",
    "hello = get_greeting('H')\n",
    "hello()\n",
    "\n",
    "hello = get_greeting('B')\n",
    "hello()\n"
   ]
  },
  {
   "cell_type": "markdown",
   "id": "ea8a18a8",
   "metadata": {},
   "source": [
    "## - 중첩 함수"
   ]
  },
  {
   "cell_type": "code",
   "execution_count": 23,
   "id": "23d5c39e",
   "metadata": {},
   "outputs": [
    {
     "name": "stdout",
     "output_type": "stream",
     "text": [
      "표준편차 :  2.346425176968384\n"
     ]
    }
   ],
   "source": [
    "import math\n",
    "\n",
    "def stddev(*args): \n",
    "    def mean() : # 중첩 함수_ 함수 안에 함수 \n",
    "        return sum(args) / len(args) # 평균을 계산\n",
    "    \n",
    "    def variance(m) : \n",
    "        total = 0\n",
    "        for arg in args : \n",
    "            total  += (arg - m) ** 2 # 음수가 나올 수 있기에 제곱해준다. \n",
    "            \n",
    "        return total / (len(args) - 1) # #분산을 계산 _ 자유도 계산을 위해 - 1 \n",
    "    \n",
    "    v = variance(mean())\n",
    "    return math.sqrt(v) # 분산을 루트로 나누면 표준편차. \n",
    "\n",
    "print(\"표준편차 : \", stddev(2,4, 4,6,6, 1.33, 3,5,9))"
   ]
  },
  {
   "cell_type": "code",
   "execution_count": 24,
   "id": "18e06b49",
   "metadata": {},
   "outputs": [
    {
     "ename": "NameError",
     "evalue": "name 'mean' is not defined",
     "output_type": "error",
     "traceback": [
      "\u001b[1;31m---------------------------------------------------------------------------\u001b[0m",
      "\u001b[1;31mNameError\u001b[0m                                 Traceback (most recent call last)",
      "\u001b[1;32m~\\AppData\\Local\\Temp\\ipykernel_107760\\1096016813.py\u001b[0m in \u001b[0;36m<module>\u001b[1;34m\u001b[0m\n\u001b[1;32m----> 1\u001b[1;33m \u001b[0mprint\u001b[0m\u001b[1;33m(\u001b[0m\u001b[0mmean\u001b[0m\u001b[1;33m(\u001b[0m\u001b[1;33m)\u001b[0m\u001b[1;33m)\u001b[0m\u001b[1;33m\u001b[0m\u001b[1;33m\u001b[0m\u001b[0m\n\u001b[0m",
      "\u001b[1;31mNameError\u001b[0m: name 'mean' is not defined"
     ]
    }
   ],
   "source": [
    "print(mean()) # error : 중첩함수는 외부에서 호출 불가능"
   ]
  },
  {
   "cell_type": "code",
   "execution_count": 28,
   "id": "57e51aba",
   "metadata": {},
   "outputs": [
    {
     "ename": "SyntaxError",
     "evalue": "unexpected EOF while parsing (1450027336.py, line 1)",
     "output_type": "error",
     "traceback": [
      "\u001b[1;36m  File \u001b[1;32m\"C:\\Users\\tjouen-jr\\AppData\\Local\\Temp\\ipykernel_107760\\1450027336.py\"\u001b[1;36m, line \u001b[1;32m1\u001b[0m\n\u001b[1;33m    def empty_function ():  # error : 빈 함수는 기능이 없을 시 에러가 난다.\u001b[0m\n\u001b[1;37m                                                            ^\u001b[0m\n\u001b[1;31mSyntaxError\u001b[0m\u001b[1;31m:\u001b[0m unexpected EOF while parsing\n"
     ]
    }
   ],
   "source": [
    "def empty_function ():  # error : 빈 함수는 기능이 없을 시 에러가 난다."
   ]
  },
  {
   "cell_type": "code",
   "execution_count": 31,
   "id": "f9860a82",
   "metadata": {},
   "outputs": [],
   "source": [
    "def empty_function (): \n",
    "    pass # '기능이 없어도 에러를 내지말고 넘겨라'라는 의미\n",
    "\n",
    "empty_function () # 아무 것도 출력 되지 않음."
   ]
  },
  {
   "cell_type": "code",
   "execution_count": null,
   "id": "47d29764",
   "metadata": {},
   "outputs": [],
   "source": []
  }
 ],
 "metadata": {
  "kernelspec": {
   "display_name": "Python 3 (ipykernel)",
   "language": "python",
   "name": "python3"
  },
  "language_info": {
   "codemirror_mode": {
    "name": "ipython",
    "version": 3
   },
   "file_extension": ".py",
   "mimetype": "text/x-python",
   "name": "python",
   "nbconvert_exporter": "python",
   "pygments_lexer": "ipython3",
   "version": "3.7.13"
  }
 },
 "nbformat": 4,
 "nbformat_minor": 5
}
