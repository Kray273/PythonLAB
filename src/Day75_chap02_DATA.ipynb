{
 "cells": [
  {
   "cell_type": "markdown",
   "id": "9e69d886",
   "metadata": {},
   "source": [
    "# 변수명 규칙\n",
    "### - 문자, 숫자,\"_\"가능. 단, 숫자로 시작하할 수 없음.\n",
    "### - 대/소문자를 구별(NUM, num). \n",
    "### - 예약어(키워드) 사용 불가능"
   ]
  },
  {
   "cell_type": "code",
   "execution_count": 2,
   "id": "25eb02b3",
   "metadata": {},
   "outputs": [
    {
     "data": {
      "text/plain": [
       "987654321"
      ]
     },
     "execution_count": 2,
     "metadata": {},
     "output_type": "execute_result"
    }
   ],
   "source": [
    "#변수(정수)\n",
    "a = 123456789\n",
    "b = 987654321\n",
    "a\n",
    "b #마지막에 입력되는 값만 출력"
   ]
  },
  {
   "cell_type": "code",
   "execution_count": 3,
   "id": "fa840ec8",
   "metadata": {},
   "outputs": [
    {
     "name": "stdout",
     "output_type": "stream",
     "text": [
      "123456789\n",
      "987654321\n"
     ]
    }
   ],
   "source": [
    "print(a)\n",
    "print(b) #print 함수를 사용해 모두 출력"
   ]
  },
  {
   "cell_type": "code",
   "execution_count": 5,
   "id": "5e688f27",
   "metadata": {},
   "outputs": [
    {
     "data": {
      "text/plain": [
       "'홍길동'"
      ]
     },
     "execution_count": 5,
     "metadata": {},
     "output_type": "execute_result"
    }
   ],
   "source": [
    "b = \"홍길동\"\n",
    "b #출력하기 전까지 자료형을 알 수 없는 것을 동적형식의 언어(R,Python,JS)/ 그와 반대를 정적형식의 언어(Java)라고 한다."
   ]
  },
  {
   "cell_type": "code",
   "execution_count": 13,
   "id": "c7a540c4",
   "metadata": {},
   "outputs": [
    {
     "name": "stdout",
     "output_type": "stream",
     "text": [
      "<class 'int'>\n",
      "<class 'str'>\n"
     ]
    },
    {
     "data": {
      "text/plain": [
       "str"
      ]
     },
     "execution_count": 13,
     "metadata": {},
     "output_type": "execute_result"
    }
   ],
   "source": [
    "print(type(a)) # DATA의 자료형을 알려주는 함수\n",
    "type(a)\n",
    "print(type(b))\n",
    "type(b) #print 함수가 아니기에 마지막 것만 출력"
   ]
  },
  {
   "cell_type": "code",
   "execution_count": 19,
   "id": "1feeaf59",
   "metadata": {},
   "outputs": [
    {
     "name": "stdout",
     "output_type": "stream",
     "text": [
      "<class 'float'>\n",
      "<class 'complex'>\n",
      "<class 'bool'>\n",
      "<class 'str'>\n"
     ]
    }
   ],
   "source": [
    "print(type(3.14)) # 'float' Java에서 4bite를 할당할 때 나오는 키워드 \n",
    "print(type(5 + 3j)) # 'complex' 복소수를 표시해준다. \n",
    "print(type(True)) #' bool' boolean값은 표시_대소문자를 구분한다(R은 전부 대문자로 작성해야함)\n",
    "print(type(\"홍\")) # 'str'"
   ]
  },
  {
   "cell_type": "markdown",
   "id": "93462fe5",
   "metadata": {},
   "source": [
    "## 연산자( +, -, *, /, %, //, **)"
   ]
  },
  {
   "cell_type": "code",
   "execution_count": 24,
   "id": "f6ed0aa8",
   "metadata": {},
   "outputs": [
    {
     "name": "stdout",
     "output_type": "stream",
     "text": [
      "7\n",
      "<class 'int'>\n"
     ]
    }
   ],
   "source": [
    "a = 3+4\n",
    "print(a)\n",
    "print(type(a))"
   ]
  },
  {
   "cell_type": "code",
   "execution_count": 25,
   "id": "a4bf34de",
   "metadata": {},
   "outputs": [
    {
     "name": "stdout",
     "output_type": "stream",
     "text": [
      "-1\n",
      "<class 'int'>\n"
     ]
    }
   ],
   "source": [
    "a = 3-4\n",
    "print(a)\n",
    "print(type(a))"
   ]
  },
  {
   "cell_type": "code",
   "execution_count": 23,
   "id": "c5d19396",
   "metadata": {},
   "outputs": [
    {
     "name": "stdout",
     "output_type": "stream",
     "text": [
      "12\n",
      "<class 'int'>\n"
     ]
    }
   ],
   "source": [
    "a = 3*4\n",
    "print(a)\n",
    "print(type(a))"
   ]
  },
  {
   "cell_type": "code",
   "execution_count": 20,
   "id": "eb14c6b3",
   "metadata": {},
   "outputs": [
    {
     "name": "stdout",
     "output_type": "stream",
     "text": [
      "0.75\n",
      "<class 'float'>\n"
     ]
    }
   ],
   "source": [
    "a = 3/4\n",
    "print(a)\n",
    "print(type(a))"
   ]
  },
  {
   "cell_type": "code",
   "execution_count": 21,
   "id": "c4d5b066",
   "metadata": {},
   "outputs": [
    {
     "name": "stdout",
     "output_type": "stream",
     "text": [
      "3\n",
      "<class 'int'>\n"
     ]
    }
   ],
   "source": [
    "a = 3%4\n",
    "print(a)\n",
    "print(type(a))"
   ]
  },
  {
   "cell_type": "code",
   "execution_count": 22,
   "id": "eb7076a1",
   "metadata": {},
   "outputs": [
    {
     "name": "stdout",
     "output_type": "stream",
     "text": [
      "0\n",
      "<class 'int'>\n"
     ]
    }
   ],
   "source": [
    "a = 33//4 # 몫 반환 연산자\n",
    "print(a)\n",
    "print(type(a))"
   ]
  },
  {
   "cell_type": "code",
   "execution_count": 26,
   "id": "13e1c8c3",
   "metadata": {},
   "outputs": [
    {
     "name": "stdout",
     "output_type": "stream",
     "text": [
      "16\n",
      "<class 'int'>\n"
     ]
    }
   ],
   "source": [
    "a = 2**4 #2^4  제곱연산자\n",
    "print(a)\n",
    "print(type(a))"
   ]
  },
  {
   "cell_type": "code",
   "execution_count": 28,
   "id": "630a216b",
   "metadata": {},
   "outputs": [
    {
     "name": "stdout",
     "output_type": "stream",
     "text": [
      "12345678901234567890123456789012345678901234567890123456789012345678901234567890123456789012345678901234567890\n"
     ]
    }
   ],
   "source": [
    "x = 12345678901234567890123456789012345678901234567890123456789012345678901234567890123456789012345678901234567890\n",
    "print(x) #메모리의 크기가 허용할 떄 까지 값을 표현할 수 있다.  "
   ]
  },
  {
   "cell_type": "code",
   "execution_count": null,
   "id": "6c621b0e",
   "metadata": {},
   "outputs": [],
   "source": []
  }
 ],
 "metadata": {
  "kernelspec": {
   "display_name": "Python [conda env:tf_cpu] *",
   "language": "python",
   "name": "conda-env-tf_cpu-py"
  },
  "language_info": {
   "codemirror_mode": {
    "name": "ipython",
    "version": 3
   },
   "file_extension": ".py",
   "mimetype": "text/x-python",
   "name": "python",
   "nbconvert_exporter": "python",
   "pygments_lexer": "ipython3",
   "version": "3.7.13"
  }
 },
 "nbformat": 4,
 "nbformat_minor": 5
}
