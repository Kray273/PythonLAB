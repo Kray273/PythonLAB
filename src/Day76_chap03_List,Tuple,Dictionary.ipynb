{
 "cells": [
  {
   "cell_type": "markdown",
   "id": "99089c75",
   "metadata": {},
   "source": [
    "# 리스트(List)\n",
    "### - 리스트 저장 형태 "
   ]
  },
  {
   "cell_type": "code",
   "execution_count": 12,
   "id": "7d581c2d",
   "metadata": {},
   "outputs": [
    {
     "name": "stdout",
     "output_type": "stream",
     "text": [
      "['이조은', '고용찬', '감안히']\n",
      "<class 'list'>\n"
     ]
    }
   ],
   "source": [
    "a = ['이조은','고용찬','감안히'] #R의 백터와 비슷한 모양\n",
    "print(a)\n",
    "print(type(a))"
   ]
  },
  {
   "cell_type": "code",
   "execution_count": 15,
   "id": "6d4899ca",
   "metadata": {
    "scrolled": true
   },
   "outputs": [
    {
     "name": "stdout",
     "output_type": "stream",
     "text": [
      "이조은\n",
      "고용찬\n",
      "감안히\n"
     ]
    },
    {
     "ename": "IndexError",
     "evalue": "list index out of range",
     "output_type": "error",
     "traceback": [
      "\u001b[1;31m---------------------------------------------------------------------------\u001b[0m",
      "\u001b[1;31mIndexError\u001b[0m                                Traceback (most recent call last)",
      "\u001b[1;32m~\\AppData\\Local\\Temp\\ipykernel_1312\\2217149949.py\u001b[0m in \u001b[0;36m<module>\u001b[1;34m\u001b[0m\n\u001b[0;32m      3\u001b[0m \u001b[0mprint\u001b[0m\u001b[1;33m(\u001b[0m\u001b[0ma\u001b[0m\u001b[1;33m[\u001b[0m\u001b[1;36m1\u001b[0m\u001b[1;33m]\u001b[0m\u001b[1;33m)\u001b[0m\u001b[1;33m\u001b[0m\u001b[1;33m\u001b[0m\u001b[0m\n\u001b[0;32m      4\u001b[0m \u001b[0mprint\u001b[0m\u001b[1;33m(\u001b[0m\u001b[0ma\u001b[0m\u001b[1;33m[\u001b[0m\u001b[1;36m2\u001b[0m\u001b[1;33m]\u001b[0m\u001b[1;33m)\u001b[0m\u001b[1;33m\u001b[0m\u001b[1;33m\u001b[0m\u001b[0m\n\u001b[1;32m----> 5\u001b[1;33m \u001b[0mprint\u001b[0m\u001b[1;33m(\u001b[0m\u001b[0ma\u001b[0m\u001b[1;33m[\u001b[0m\u001b[1;36m3\u001b[0m\u001b[1;33m]\u001b[0m\u001b[1;33m)\u001b[0m\u001b[1;33m\u001b[0m\u001b[1;33m\u001b[0m\u001b[0m\n\u001b[0m",
      "\u001b[1;31mIndexError\u001b[0m: list index out of range"
     ]
    }
   ],
   "source": [
    "#데이터 접근 \n",
    "print(a[0])\n",
    "print(a[1])\n",
    "print(a[2])\n",
    "print(a[3]) #error : IndexError  _존재하지 않는 범위에 접근을 하면 나타남."
   ]
  },
  {
   "cell_type": "code",
   "execution_count": 24,
   "id": "1bb6d92e",
   "metadata": {},
   "outputs": [
    {
     "name": "stdout",
     "output_type": "stream",
     "text": [
      "6\n",
      "[2, 3]\n",
      "[6, 7, 8, 9, 10]\n",
      "[1, 2, 3, 4, 5]\n",
      "[2, 4, 6, 8, 10]\n"
     ]
    }
   ],
   "source": [
    "#슬라이싱 기능\n",
    "x = [1,2,3,4,5,6,7,8,9,10]\n",
    "print(x[5])\n",
    "print(x[1:3])\n",
    "print(x[5:])\n",
    "print(x[:5])\n",
    "print(x[1:10:2])\n",
    "#print(x[3:6, 7]) #TypeError R과 달리 에러를 일으킴."
   ]
  },
  {
   "cell_type": "code",
   "execution_count": 25,
   "id": "f41084af",
   "metadata": {},
   "outputs": [
    {
     "name": "stdout",
     "output_type": "stream",
     "text": [
      "[1, 2, 3, 4, 5, 6, 7, 8, 9, 10]\n"
     ]
    }
   ],
   "source": [
    "# '+' 연산자를 통한 리스트간의 결합 기능\n",
    "x = [1,2,3,4,5]\n",
    "y = [6,7,8,9,10]\n",
    "print(x + y) # list를 붙여 줌."
   ]
  },
  {
   "cell_type": "code",
   "execution_count": 27,
   "id": "d66094c3",
   "metadata": {},
   "outputs": [
    {
     "name": "stdout",
     "output_type": "stream",
     "text": [
      "[1, 2, 30, 4, 5]\n",
      "5\n"
     ]
    }
   ],
   "source": [
    "# 특정 위치의 DATA 변경\n",
    "x = [1,2,3,4,5]\n",
    "x[2] = 30 #인덱스로 접근해 변환\n",
    "print(x)\n",
    "print(len(x))"
   ]
  },
  {
   "cell_type": "code",
   "execution_count": 28,
   "id": "d57f3477",
   "metadata": {},
   "outputs": [
    {
     "name": "stdout",
     "output_type": "stream",
     "text": [
      "[1, 2, 4, 5]\n",
      "4\n"
     ]
    }
   ],
   "source": [
    "# 리스트에서 DATA 삭제\n",
    "del x[2]\n",
    "print(x)\n",
    "print(len(x))"
   ]
  },
  {
   "cell_type": "code",
   "execution_count": 47,
   "id": "f95c162e",
   "metadata": {},
   "outputs": [
    {
     "name": "stdout",
     "output_type": "stream",
     "text": [
      "[1, 3, 5]\n",
      "[1, 3, 5, 7]\n",
      "[1, 3, 5, 7, 8, 9, 8]\n",
      "[1, 2, 3, 5, 7, 8, 9, 8]\n",
      "[1, 2, 3, 5, 7, 9, 8]\n",
      "[1, 2, 3, 5, 7, 9]\n",
      "[2, 3, 5, 7, 9]\n"
     ]
    }
   ],
   "source": [
    "#list의 다양한 매서드1\n",
    "x = [1,3,5]\n",
    "print(x)\n",
    "x.append(7) # 끝에 추가\n",
    "print(x)\n",
    "y=[8,9,8]\n",
    "x.extend(y) # list 결합\n",
    "print(x)\n",
    "x.insert(1,2) # index위치에 데이터 삽입 \n",
    "print(x)\n",
    "x.remove(8) # 해당하는 숫자 중 첫번째 요소 제거\n",
    "print(x)\n",
    "x.pop() #마지막 값을 제거\n",
    "print(x) \n",
    "x.pop(0) #index값 제거\n",
    "print(x) "
   ]
  },
  {
   "cell_type": "code",
   "execution_count": 51,
   "id": "c5bc624c",
   "metadata": {},
   "outputs": [
    {
     "name": "stdout",
     "output_type": "stream",
     "text": [
      "0\n"
     ]
    },
    {
     "ename": "ValueError",
     "evalue": "3 is not in list",
     "output_type": "error",
     "traceback": [
      "\u001b[1;31m---------------------------------------------------------------------------\u001b[0m",
      "\u001b[1;31mValueError\u001b[0m                                Traceback (most recent call last)",
      "\u001b[1;32m~\\AppData\\Local\\Temp\\ipykernel_1312\\2601887698.py\u001b[0m in \u001b[0;36m<module>\u001b[1;34m\u001b[0m\n\u001b[0;32m      2\u001b[0m \u001b[0mx\u001b[0m \u001b[1;33m=\u001b[0m \u001b[1;33m[\u001b[0m\u001b[1;34m\"abc\"\u001b[0m\u001b[1;33m,\u001b[0m\u001b[1;34m\"def\"\u001b[0m\u001b[1;33m,\u001b[0m\u001b[1;34m\"ghi\"\u001b[0m\u001b[1;33m]\u001b[0m\u001b[1;33m\u001b[0m\u001b[1;33m\u001b[0m\u001b[0m\n\u001b[0;32m      3\u001b[0m \u001b[0mprint\u001b[0m\u001b[1;33m(\u001b[0m\u001b[0mx\u001b[0m\u001b[1;33m.\u001b[0m\u001b[0mindex\u001b[0m\u001b[1;33m(\u001b[0m\u001b[1;34m'abc'\u001b[0m\u001b[1;33m)\u001b[0m\u001b[1;33m)\u001b[0m \u001b[1;31m# index에 해당하는 값 반환\u001b[0m\u001b[1;33m\u001b[0m\u001b[1;33m\u001b[0m\u001b[0m\n\u001b[1;32m----> 4\u001b[1;33m \u001b[0mprint\u001b[0m\u001b[1;33m(\u001b[0m\u001b[0mx\u001b[0m\u001b[1;33m.\u001b[0m\u001b[0mindex\u001b[0m\u001b[1;33m(\u001b[0m\u001b[1;36m3\u001b[0m\u001b[1;33m)\u001b[0m\u001b[1;33m)\u001b[0m \u001b[1;31m# index에 해당하는 값 반환\u001b[0m\u001b[1;33m\u001b[0m\u001b[1;33m\u001b[0m\u001b[0m\n\u001b[0m",
      "\u001b[1;31mValueError\u001b[0m: 3 is not in list"
     ]
    }
   ],
   "source": [
    "#list의 다양한 매서드2\n",
    "x = [\"abc\",\"def\",\"ghi\"]\n",
    "print(x.index('abc')) # index에 해당하는 값 반환\n",
    "print(x.index(3)) # ValueError 값이 없는 경우의 에러"
   ]
  },
  {
   "cell_type": "code",
   "execution_count": 60,
   "id": "1938bcbb",
   "metadata": {},
   "outputs": [
    {
     "name": "stdout",
     "output_type": "stream",
     "text": [
      "3\n",
      "0\n",
      "[1, 2, 3, 4, 5, 8]\n",
      "[8, 5, 4, 3, 2, 1]\n",
      "['요', '세', '하', '녕', '안']\n",
      "[5, 4, 3, 2, 1]\n",
      "[8, 5, 4, 3, 2, 1]\n"
     ]
    }
   ],
   "source": [
    "#list의 다양한 매서드3\n",
    "a = [1,100,2,100,3,100]\n",
    "print(a.count(100)) # 매개변수에 입력한 값의 해당하는 갯수를 반환\n",
    "print(a.count(200)) # 없으면 0 \n",
    "s = [1,5,2,8,3,4]\n",
    "s.sort() # 내부의 값도 변경한다. (return만 되는것이 아님)\n",
    "print(s) \n",
    "s.sort(reverse=True) \n",
    "print(s)\n",
    "h = ['안', '녕','하','세','요']\n",
    "n = [1, 2,3,4,5]\n",
    "h.reverse()\n",
    "n.reverse()\n",
    "print(h)\n",
    "print(n)"
   ]
  },
  {
   "cell_type": "markdown",
   "id": "dab7e9e9",
   "metadata": {},
   "source": [
    "# 튜플(Tuple)"
   ]
  },
  {
   "cell_type": "code",
   "execution_count": 61,
   "id": "b6594227",
   "metadata": {},
   "outputs": [
    {
     "name": "stdout",
     "output_type": "stream",
     "text": [
      "(1, 2, 3)\n",
      "<class 'tuple'>\n"
     ]
    }
   ],
   "source": [
    "#튜플의 자료구조 \n",
    "x = (1,2,3)\n",
    "print(x)\n",
    "print(type(x))"
   ]
  },
  {
   "cell_type": "code",
   "execution_count": 62,
   "id": "ae915aec",
   "metadata": {},
   "outputs": [
    {
     "name": "stdout",
     "output_type": "stream",
     "text": [
      "(1, 2, 3, 4)\n",
      "<class 'tuple'>\n"
     ]
    }
   ],
   "source": [
    "x = 1,2,3,4 # 소괄호 생략가능\n",
    "print(x)\n",
    "print(type(x))"
   ]
  },
  {
   "cell_type": "code",
   "execution_count": 63,
   "id": "0280a9c8",
   "metadata": {},
   "outputs": [
    {
     "name": "stdout",
     "output_type": "stream",
     "text": [
      "1\n",
      "<class 'int'>\n"
     ]
    }
   ],
   "source": [
    "x = (1)\n",
    "print(x)\n",
    "print(type(x)) # 정수형으로 출력. 두 개 이상의 data가 있어야 자료형이 튜플로 인식 되어진다. "
   ]
  },
  {
   "cell_type": "code",
   "execution_count": 65,
   "id": "169a6184",
   "metadata": {},
   "outputs": [
    {
     "name": "stdout",
     "output_type": "stream",
     "text": [
      "(1,)\n",
      "<class 'tuple'>\n"
     ]
    }
   ],
   "source": [
    "x = (1,) #','를 통해 1개의 값도 튜플로 인식할 수 있다. \n",
    "print(x)\n",
    "print(type(x)) "
   ]
  },
  {
   "cell_type": "code",
   "execution_count": 66,
   "id": "18fa50d8",
   "metadata": {},
   "outputs": [
    {
     "name": "stdout",
     "output_type": "stream",
     "text": [
      "(1,)\n",
      "<class 'tuple'>\n"
     ]
    }
   ],
   "source": [
    "x = 1, # 소괄호 생략가능\n",
    "print(x)\n",
    "print(type(x)) "
   ]
  },
  {
   "cell_type": "code",
   "execution_count": 71,
   "id": "40af88c9",
   "metadata": {},
   "outputs": [
    {
     "name": "stdout",
     "output_type": "stream",
     "text": [
      "(3, 4, 5)\n",
      "(1, 2, 3)\n",
      "(5, 6)\n",
      "5\n"
     ]
    }
   ],
   "source": [
    "#슬라이싱이 가능\n",
    "x = 1,2,3,4,5,6\n",
    "print(x[2:5])\n",
    "print(x[:3])\n",
    "print(x[4:])\n",
    "print(x[4])"
   ]
  },
  {
   "cell_type": "code",
   "execution_count": 73,
   "id": "0fe82b9b",
   "metadata": {},
   "outputs": [
    {
     "data": {
      "text/plain": [
       "(1, 2, 3, 4, 5, 6)"
      ]
     },
     "execution_count": 73,
     "metadata": {},
     "output_type": "execute_result"
    }
   ],
   "source": [
    "# '+' 연산자를 이용한 결합\n",
    "m = 1,2,3\n",
    "n = 4,5,6\n",
    "m+n"
   ]
  },
  {
   "cell_type": "code",
   "execution_count": 74,
   "id": "114437ba",
   "metadata": {},
   "outputs": [
    {
     "name": "stdout",
     "output_type": "stream",
     "text": [
      "2\n"
     ]
    },
    {
     "ename": "TypeError",
     "evalue": "'tuple' object does not support item assignment",
     "output_type": "error",
     "traceback": [
      "\u001b[1;31m---------------------------------------------------------------------------\u001b[0m",
      "\u001b[1;31mTypeError\u001b[0m                                 Traceback (most recent call last)",
      "\u001b[1;32m~\\AppData\\Local\\Temp\\ipykernel_1312\\1110696123.py\u001b[0m in \u001b[0;36m<module>\u001b[1;34m\u001b[0m\n\u001b[0;32m      1\u001b[0m \u001b[0mprint\u001b[0m\u001b[1;33m(\u001b[0m\u001b[0mm\u001b[0m\u001b[1;33m[\u001b[0m\u001b[1;36m1\u001b[0m\u001b[1;33m]\u001b[0m\u001b[1;33m)\u001b[0m\u001b[1;33m\u001b[0m\u001b[1;33m\u001b[0m\u001b[0m\n\u001b[1;32m----> 2\u001b[1;33m \u001b[0mm\u001b[0m\u001b[1;33m[\u001b[0m\u001b[1;36m1\u001b[0m\u001b[1;33m]\u001b[0m \u001b[1;33m=\u001b[0m \u001b[1;36m20\u001b[0m\u001b[1;33m\u001b[0m\u001b[1;33m\u001b[0m\u001b[0m\n\u001b[0m",
      "\u001b[1;31mTypeError\u001b[0m: 'tuple' object does not support item assignment"
     ]
    }
   ],
   "source": [
    "print(m[1])\n",
    "m[1] = 20 # TypeError: 'tuple' object does not support item assignment\n",
    "#튜플은 한번 데이터가 저장이 되면 수정은 불가능하다."
   ]
  },
  {
   "cell_type": "code",
   "execution_count": 75,
   "id": "909b62d6",
   "metadata": {},
   "outputs": [
    {
     "ename": "AttributeError",
     "evalue": "'tuple' object has no attribute 'append'",
     "output_type": "error",
     "traceback": [
      "\u001b[1;31m---------------------------------------------------------------------------\u001b[0m",
      "\u001b[1;31mAttributeError\u001b[0m                            Traceback (most recent call last)",
      "\u001b[1;32m~\\AppData\\Local\\Temp\\ipykernel_1312\\1969377636.py\u001b[0m in \u001b[0;36m<module>\u001b[1;34m\u001b[0m\n\u001b[0;32m      1\u001b[0m \u001b[0mm\u001b[0m \u001b[1;33m=\u001b[0m \u001b[1;36m1\u001b[0m\u001b[1;33m,\u001b[0m\u001b[1;36m2\u001b[0m\u001b[1;33m,\u001b[0m\u001b[1;36m3\u001b[0m\u001b[1;33m\u001b[0m\u001b[1;33m\u001b[0m\u001b[0m\n\u001b[1;32m----> 2\u001b[1;33m \u001b[0mm\u001b[0m\u001b[1;33m.\u001b[0m\u001b[0mappend\u001b[0m\u001b[1;33m(\u001b[0m\u001b[1;36m4\u001b[0m\u001b[1;33m)\u001b[0m\u001b[1;33m\u001b[0m\u001b[1;33m\u001b[0m\u001b[0m\n\u001b[0m",
      "\u001b[1;31mAttributeError\u001b[0m: 'tuple' object has no attribute 'append'"
     ]
    }
   ],
   "source": [
    "m = 1,2,3\n",
    "m.append(4) #AttributeError: 'tuple' object has no attribute 'append' 매서드를 제공하지 않는다. 값을 변경 못함. "
   ]
  },
  {
   "cell_type": "markdown",
   "id": "442195bf",
   "metadata": {},
   "source": [
    "### - 튜플에서 제공하는 매서드()"
   ]
  },
  {
   "cell_type": "code",
   "execution_count": 76,
   "id": "7f740abf",
   "metadata": {},
   "outputs": [
    {
     "name": "stdout",
     "output_type": "stream",
     "text": [
      "2\n"
     ]
    }
   ],
   "source": [
    "x = 'abc', 'def', 'ghi'\n",
    "print(x.index('ghi')) #index값 반환"
   ]
  },
  {
   "cell_type": "code",
   "execution_count": 77,
   "id": "3a27841c",
   "metadata": {},
   "outputs": [
    {
     "name": "stdout",
     "output_type": "stream",
     "text": [
      "3\n"
     ]
    }
   ],
   "source": [
    "x = (1, 100, 2, 100, 3, 100)\n",
    "print(x.count(100)) # 일치하는 매개변수의 갯수를 반환"
   ]
  },
  {
   "cell_type": "code",
   "execution_count": null,
   "id": "6eeb8f81",
   "metadata": {},
   "outputs": [],
   "source": [
    "# 튜플 패킹(tuple packing) : 여러 가지 데이터를 튜플로 묶는 것.\n",
    "x = 1,2,3 \n",
    "print(x)"
   ]
  },
  {
   "cell_type": "code",
   "execution_count": 84,
   "id": "cde79e14",
   "metadata": {},
   "outputs": [
    {
     "name": "stdout",
     "output_type": "stream",
     "text": [
      "Seoul\n",
      "37.541\n",
      "124.986\n"
     ]
    }
   ],
   "source": [
    "# 튜플 언패킹(tuple Unpacking) : 각 요소를 여러 개의 변수에 할당하는 것\n",
    "data = 'Seoul', 37.541, 124.986 #지역/ 경도/ 위도\n",
    "\n",
    "city, latitude, longitude = data\n",
    "print(city)\n",
    "print(latitude)\n",
    "print(longitude)"
   ]
  },
  {
   "cell_type": "markdown",
   "id": "675039b9",
   "metadata": {},
   "source": [
    "# 딕셔너리(Dictionary)"
   ]
  },
  {
   "cell_type": "code",
   "execution_count": 85,
   "id": "8ba41ae6",
   "metadata": {},
   "outputs": [
    {
     "name": "stdout",
     "output_type": "stream",
     "text": [
      "{'apple': 'www.apple.com', 2: '삼성', 'list': (1, 2, 3)}\n",
      "<class 'dict'>\n"
     ]
    }
   ],
   "source": [
    "#딕셔너리의 자료구조\n",
    "dic = {'apple':'www.apple.com', 2 :\"삼성\" ,'list':(1,2,3)}\n",
    "print(dic)\n",
    "print(type(dic))"
   ]
  },
  {
   "cell_type": "code",
   "execution_count": 89,
   "id": "3122d1ed",
   "metadata": {},
   "outputs": [
    {
     "name": "stdout",
     "output_type": "stream",
     "text": [
      "삼성\n",
      "www.apple.com\n"
     ]
    },
    {
     "ename": "TypeError",
     "evalue": "unhashable type: 'slice'",
     "output_type": "error",
     "traceback": [
      "\u001b[1;31m---------------------------------------------------------------------------\u001b[0m",
      "\u001b[1;31mTypeError\u001b[0m                                 Traceback (most recent call last)",
      "\u001b[1;32m~\\AppData\\Local\\Temp\\ipykernel_1312\\2830398828.py\u001b[0m in \u001b[0;36m<module>\u001b[1;34m\u001b[0m\n\u001b[0;32m      2\u001b[0m \u001b[0mprint\u001b[0m\u001b[1;33m(\u001b[0m\u001b[0mdic\u001b[0m\u001b[1;33m[\u001b[0m\u001b[1;36m2\u001b[0m\u001b[1;33m]\u001b[0m\u001b[1;33m)\u001b[0m\u001b[1;33m\u001b[0m\u001b[1;33m\u001b[0m\u001b[0m\n\u001b[0;32m      3\u001b[0m \u001b[0mprint\u001b[0m\u001b[1;33m(\u001b[0m\u001b[0mdic\u001b[0m\u001b[1;33m[\u001b[0m\u001b[1;34m'apple'\u001b[0m\u001b[1;33m]\u001b[0m\u001b[1;33m)\u001b[0m\u001b[1;33m\u001b[0m\u001b[1;33m\u001b[0m\u001b[0m\n\u001b[1;32m----> 4\u001b[1;33m \u001b[0mprint\u001b[0m\u001b[1;33m(\u001b[0m\u001b[0mdic\u001b[0m\u001b[1;33m[\u001b[0m\u001b[1;34m\"apple\"\u001b[0m\u001b[1;33m:\u001b[0m\u001b[1;34m\"list\"\u001b[0m\u001b[1;33m]\u001b[0m\u001b[1;33m)\u001b[0m\u001b[1;33m\u001b[0m\u001b[1;33m\u001b[0m\u001b[0m\n\u001b[0m",
      "\u001b[1;31mTypeError\u001b[0m: unhashable type: 'slice'"
     ]
    }
   ],
   "source": [
    "#데이터 접근 방법\n",
    "print(dic[2])\n",
    "print(dic['apple'])\n",
    "print(dic[\"apple\":\"list\"]) # TypeError: unhashable type: 'slice' 슬라이싱은 지원되지 않음. "
   ]
  },
  {
   "cell_type": "code",
   "execution_count": 112,
   "id": "01a37a1c",
   "metadata": {},
   "outputs": [
    {
     "name": "stdout",
     "output_type": "stream",
     "text": [
      "<class 'dict'>\n",
      "{'애플': 'WWW.apple.com', '바나나': ('1개', '2개', '3개')}\n"
     ]
    }
   ],
   "source": [
    "#데이터 삽입\n",
    "dic = {}\n",
    "print(type(dic))\n",
    "\n",
    "dic['애플'] = 'WWW.apple.com'\n",
    "dic['바나나'] = ('1개','2개','3개')\n",
    "print(dic)"
   ]
  },
  {
   "cell_type": "markdown",
   "id": "d67351a2",
   "metadata": {},
   "source": [
    "## - 딕셔너리 제공 매서드"
   ]
  },
  {
   "cell_type": "code",
   "execution_count": 98,
   "id": "b8ed35d0",
   "metadata": {},
   "outputs": [
    {
     "name": "stdout",
     "output_type": "stream",
     "text": [
      "dict_keys(['애플', '바나나'])\n",
      "dict_values(['WWW.apple.com', ('1개', '2개', '3개')])\n",
      "<class 'dict_values'>\n",
      "dict_items([('애플', 'WWW.apple.com'), ('바나나', ('1개', '2개', '3개'))])\n",
      "<class 'dict_items'>\n"
     ]
    }
   ],
   "source": [
    "# data 검색1\n",
    "print(dic.keys()) # key값을 출력\n",
    "print(dic.values()) # value값을 출력\n",
    "print(type(dic.values()))\n",
    "print(dic.items()) # #값을 모두 출력\n",
    "print(type(dic.items())) "
   ]
  },
  {
   "cell_type": "code",
   "execution_count": 113,
   "id": "cf78d493",
   "metadata": {},
   "outputs": [
    {
     "name": "stdout",
     "output_type": "stream",
     "text": [
      "True\n",
      "False\n",
      "True\n",
      "True\n",
      "False\n"
     ]
    }
   ],
   "source": [
    "# data 검색2\n",
    "print('애플' in dic.keys())\n",
    "print('삼성' in dic.keys())\n",
    "print('WWW.apple.com' in dic.values())\n",
    "print(('1개','2개','3개') in dic.values())\n",
    "print(('1개') in dic.values())"
   ]
  },
  {
   "cell_type": "code",
   "execution_count": 114,
   "id": "cc40dff8",
   "metadata": {},
   "outputs": [
    {
     "data": {
      "text/plain": [
       "('1개', '2개', '3개')"
      ]
     },
     "execution_count": 114,
     "metadata": {},
     "output_type": "execute_result"
    }
   ],
   "source": [
    "# data 검색2\n",
    "dic.get('바나나') # key 로 value  가져오기"
   ]
  },
  {
   "cell_type": "code",
   "execution_count": 110,
   "id": "6949637c",
   "metadata": {},
   "outputs": [
    {
     "ename": "KeyError",
     "evalue": "'바나나'",
     "output_type": "error",
     "traceback": [
      "\u001b[1;31m---------------------------------------------------------------------------\u001b[0m",
      "\u001b[1;31mKeyError\u001b[0m                                  Traceback (most recent call last)",
      "\u001b[1;32m~\\AppData\\Local\\Temp\\ipykernel_1312\\3522216961.py\u001b[0m in \u001b[0;36m<module>\u001b[1;34m\u001b[0m\n\u001b[0;32m      1\u001b[0m \u001b[1;31m#데이터 제거\u001b[0m\u001b[1;33m\u001b[0m\u001b[1;33m\u001b[0m\u001b[1;33m\u001b[0m\u001b[0m\n\u001b[1;32m----> 2\u001b[1;33m \u001b[0mprint\u001b[0m\u001b[1;33m(\u001b[0m\u001b[0mdic\u001b[0m\u001b[1;33m.\u001b[0m\u001b[0mpop\u001b[0m\u001b[1;33m(\u001b[0m\u001b[1;34m'바나나'\u001b[0m\u001b[1;33m)\u001b[0m\u001b[1;33m)\u001b[0m\u001b[1;33m\u001b[0m\u001b[1;33m\u001b[0m\u001b[0m\n\u001b[0m\u001b[0;32m      3\u001b[0m \u001b[0mprint\u001b[0m\u001b[1;33m(\u001b[0m\u001b[0mdic\u001b[0m\u001b[1;33m)\u001b[0m\u001b[1;33m\u001b[0m\u001b[1;33m\u001b[0m\u001b[0m\n\u001b[0;32m      4\u001b[0m \u001b[0mdic\u001b[0m\u001b[1;33m.\u001b[0m\u001b[0mclear\u001b[0m\u001b[1;33m(\u001b[0m\u001b[1;33m)\u001b[0m\u001b[1;33m\u001b[0m\u001b[1;33m\u001b[0m\u001b[0m\n\u001b[0;32m      5\u001b[0m \u001b[0mprint\u001b[0m\u001b[1;33m(\u001b[0m\u001b[0mdic\u001b[0m\u001b[1;33m)\u001b[0m\u001b[1;33m\u001b[0m\u001b[1;33m\u001b[0m\u001b[0m\n",
      "\u001b[1;31mKeyError\u001b[0m: '바나나'"
     ]
    }
   ],
   "source": [
    "#데이터 제거\n",
    "print(dic.pop('바나나'))\n",
    "print(dic)"
   ]
  },
  {
   "cell_type": "code",
   "execution_count": 111,
   "id": "7464c94c",
   "metadata": {},
   "outputs": [
    {
     "name": "stdout",
     "output_type": "stream",
     "text": [
      "{}\n"
     ]
    }
   ],
   "source": [
    "dic.clear()\n",
    "print(dic) # 빈 딕셔너리로 반환 "
   ]
  }
 ],
 "metadata": {
  "kernelspec": {
   "display_name": "Python 3 (ipykernel)",
   "language": "python",
   "name": "python3"
  },
  "language_info": {
   "codemirror_mode": {
    "name": "ipython",
    "version": 3
   },
   "file_extension": ".py",
   "mimetype": "text/x-python",
   "name": "python",
   "nbconvert_exporter": "python",
   "pygments_lexer": "ipython3",
   "version": "3.7.13"
  }
 },
 "nbformat": 4,
 "nbformat_minor": 5
}
