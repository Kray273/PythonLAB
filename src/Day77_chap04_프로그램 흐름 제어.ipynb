{
 "cells": [
  {
   "cell_type": "markdown",
   "id": "5f5f8d98",
   "metadata": {},
   "source": [
    "# Bool 자료형"
   ]
  },
  {
   "cell_type": "markdown",
   "id": "6d5a9166",
   "metadata": {},
   "source": [
    "### 연산자의 우선순위\n",
    "##### 산술 연산자 > 비교(관계 연산자) > 논리 연산자 > 대입 연산자( = )"
   ]
  },
  {
   "cell_type": "code",
   "execution_count": 1,
   "id": "e5b5272d",
   "metadata": {},
   "outputs": [
    {
     "data": {
      "text/plain": [
       "True"
      ]
     },
     "execution_count": 1,
     "metadata": {},
     "output_type": "execute_result"
    }
   ],
   "source": [
    "a = 5 > 3\n",
    "a"
   ]
  },
  {
   "cell_type": "code",
   "execution_count": 2,
   "id": "13bc0b32",
   "metadata": {},
   "outputs": [
    {
     "data": {
      "text/plain": [
       "False"
      ]
     },
     "execution_count": 2,
     "metadata": {},
     "output_type": "execute_result"
    }
   ],
   "source": [
    "b =5 < 3\n",
    "b"
   ]
  },
  {
   "cell_type": "code",
   "execution_count": 4,
   "id": "d4b51f53",
   "metadata": {},
   "outputs": [
    {
     "name": "stdout",
     "output_type": "stream",
     "text": [
      "<class 'bool'>\n"
     ]
    }
   ],
   "source": [
    "print(type(a))"
   ]
  },
  {
   "cell_type": "code",
   "execution_count": 10,
   "id": "2727dc09",
   "metadata": {},
   "outputs": [
    {
     "data": {
      "text/plain": [
       "False"
      ]
     },
     "execution_count": 10,
     "metadata": {},
     "output_type": "execute_result"
    }
   ],
   "source": [
    "not True"
   ]
  },
  {
   "cell_type": "code",
   "execution_count": 11,
   "id": "73268335",
   "metadata": {},
   "outputs": [
    {
     "data": {
      "text/plain": [
       "True"
      ]
     },
     "execution_count": 11,
     "metadata": {},
     "output_type": "execute_result"
    }
   ],
   "source": [
    "not False"
   ]
  },
  {
   "cell_type": "code",
   "execution_count": 13,
   "id": "46bc12dc",
   "metadata": {},
   "outputs": [
    {
     "data": {
      "text/plain": [
       "True"
      ]
     },
     "execution_count": 13,
     "metadata": {},
     "output_type": "execute_result"
    }
   ],
   "source": [
    "not 0"
   ]
  },
  {
   "cell_type": "code",
   "execution_count": 15,
   "id": "a02e6fc1",
   "metadata": {},
   "outputs": [
    {
     "data": {
      "text/plain": [
       "False"
      ]
     },
     "execution_count": 15,
     "metadata": {},
     "output_type": "execute_result"
    }
   ],
   "source": [
    "not -1"
   ]
  },
  {
   "cell_type": "code",
   "execution_count": 16,
   "id": "422df579",
   "metadata": {},
   "outputs": [
    {
     "data": {
      "text/plain": [
       "False"
      ]
     },
     "execution_count": 16,
     "metadata": {},
     "output_type": "execute_result"
    }
   ],
   "source": [
    "not 1"
   ]
  },
  {
   "cell_type": "code",
   "execution_count": 18,
   "id": "c053f6b2",
   "metadata": {},
   "outputs": [
    {
     "data": {
      "text/plain": [
       "True"
      ]
     },
     "execution_count": 18,
     "metadata": {},
     "output_type": "execute_result"
    }
   ],
   "source": [
    "not None"
   ]
  },
  {
   "cell_type": "code",
   "execution_count": 19,
   "id": "1f543d81",
   "metadata": {},
   "outputs": [
    {
     "data": {
      "text/plain": [
       "False"
      ]
     },
     "execution_count": 19,
     "metadata": {},
     "output_type": "execute_result"
    }
   ],
   "source": [
    "not 'ABC'"
   ]
  },
  {
   "cell_type": "code",
   "execution_count": 21,
   "id": "3e4158b4",
   "metadata": {},
   "outputs": [
    {
     "data": {
      "text/plain": [
       "True"
      ]
     },
     "execution_count": 21,
     "metadata": {},
     "output_type": "execute_result"
    }
   ],
   "source": [
    "not ''"
   ]
  },
  {
   "cell_type": "code",
   "execution_count": 22,
   "id": "51a52e42",
   "metadata": {},
   "outputs": [
    {
     "data": {
      "text/plain": [
       "False"
      ]
     },
     "execution_count": 22,
     "metadata": {},
     "output_type": "execute_result"
    }
   ],
   "source": [
    "not (1,2,3)"
   ]
  },
  {
   "cell_type": "code",
   "execution_count": 23,
   "id": "e8ca2aec",
   "metadata": {},
   "outputs": [
    {
     "data": {
      "text/plain": [
       "True"
      ]
     },
     "execution_count": 23,
     "metadata": {},
     "output_type": "execute_result"
    }
   ],
   "source": [
    "not()"
   ]
  },
  {
   "cell_type": "code",
   "execution_count": 24,
   "id": "e34c41eb",
   "metadata": {},
   "outputs": [
    {
     "data": {
      "text/plain": [
       "True"
      ]
     },
     "execution_count": 24,
     "metadata": {},
     "output_type": "execute_result"
    }
   ],
   "source": [
    "not[]"
   ]
  },
  {
   "cell_type": "code",
   "execution_count": 25,
   "id": "85fcec5e",
   "metadata": {},
   "outputs": [
    {
     "data": {
      "text/plain": [
       "True"
      ]
     },
     "execution_count": 25,
     "metadata": {},
     "output_type": "execute_result"
    }
   ],
   "source": [
    "not{}"
   ]
  },
  {
   "cell_type": "code",
   "execution_count": 26,
   "id": "0e8e93e6",
   "metadata": {},
   "outputs": [
    {
     "data": {
      "text/plain": [
       "False"
      ]
     },
     "execution_count": 26,
     "metadata": {},
     "output_type": "execute_result"
    }
   ],
   "source": [
    "bool(False)"
   ]
  },
  {
   "cell_type": "code",
   "execution_count": 27,
   "id": "c39e3835",
   "metadata": {},
   "outputs": [
    {
     "data": {
      "text/plain": [
       "False"
      ]
     },
     "execution_count": 27,
     "metadata": {},
     "output_type": "execute_result"
    }
   ],
   "source": [
    "bool(None)"
   ]
  },
  {
   "cell_type": "code",
   "execution_count": 28,
   "id": "eebeb824",
   "metadata": {},
   "outputs": [
    {
     "data": {
      "text/plain": [
       "False"
      ]
     },
     "execution_count": 28,
     "metadata": {},
     "output_type": "execute_result"
    }
   ],
   "source": [
    "bool(0)"
   ]
  },
  {
   "cell_type": "code",
   "execution_count": 29,
   "id": "7d4d5d63",
   "metadata": {},
   "outputs": [
    {
     "data": {
      "text/plain": [
       "False"
      ]
     },
     "execution_count": 29,
     "metadata": {},
     "output_type": "execute_result"
    }
   ],
   "source": [
    "bool(0.0)"
   ]
  },
  {
   "cell_type": "code",
   "execution_count": 31,
   "id": "b1056a41",
   "metadata": {},
   "outputs": [
    {
     "data": {
      "text/plain": [
       "False"
      ]
     },
     "execution_count": 31,
     "metadata": {},
     "output_type": "execute_result"
    }
   ],
   "source": [
    "bool(\"\")"
   ]
  },
  {
   "cell_type": "code",
   "execution_count": 32,
   "id": "b6b2b69e",
   "metadata": {},
   "outputs": [
    {
     "data": {
      "text/plain": [
       "False"
      ]
     },
     "execution_count": 32,
     "metadata": {},
     "output_type": "execute_result"
    }
   ],
   "source": [
    "bool({})"
   ]
  },
  {
   "cell_type": "code",
   "execution_count": 33,
   "id": "f071b664",
   "metadata": {},
   "outputs": [
    {
     "data": {
      "text/plain": [
       "True"
      ]
     },
     "execution_count": 33,
     "metadata": {},
     "output_type": "execute_result"
    }
   ],
   "source": [
    "bool('Hi')"
   ]
  },
  {
   "cell_type": "code",
   "execution_count": 34,
   "id": "af3931e1",
   "metadata": {},
   "outputs": [
    {
     "data": {
      "text/plain": [
       "True"
      ]
     },
     "execution_count": 34,
     "metadata": {},
     "output_type": "execute_result"
    }
   ],
   "source": [
    "bool(123)"
   ]
  },
  {
   "cell_type": "code",
   "execution_count": 35,
   "id": "320bb360",
   "metadata": {},
   "outputs": [
    {
     "data": {
      "text/plain": [
       "True"
      ]
     },
     "execution_count": 35,
     "metadata": {},
     "output_type": "execute_result"
    }
   ],
   "source": [
    "bool([1,2,3,])"
   ]
  },
  {
   "cell_type": "markdown",
   "id": "147213c8",
   "metadata": {},
   "source": [
    "# 조건문\n",
    "### if문"
   ]
  },
  {
   "cell_type": "code",
   "execution_count": 1,
   "id": "717f0c80",
   "metadata": {},
   "outputs": [
    {
     "name": "stdout",
     "output_type": "stream",
     "text": [
      "3으로 나눌 수를 입력하세요 : \n",
      "3\n",
      "3 / 3 = 1.0\n"
     ]
    }
   ],
   "source": [
    "import sys   # 패키지를 import해야 한다.\n",
    "print('3으로 나눌 수를 입력하세요 : ')\n",
    "# Java : scanner , JS : Input, R : Input\n",
    "num = int(input()) #입력받은 값은 문자열로 받는다. -> 숫자로 형변환 필요 -> 변수를 이용해 저장한다. \n",
    "\n",
    "if num == 0 :\n",
    "    print(\"'0'은 나눗셈에 이용할 수 없습니다.\") #들여쓰기에 주의해야 한다.\n",
    "    sys.exit(0)\n",
    " \n",
    "print('3 /',num,'=', 3/num)"
   ]
  },
  {
   "cell_type": "code",
   "execution_count": 2,
   "id": "0600f6d0",
   "metadata": {},
   "outputs": [
    {
     "name": "stdout",
     "output_type": "stream",
     "text": [
      "수를 입력하세요!\n",
      "0\n",
      "'0'은 나눗셈에 이용할 수 없습니다.\n",
      "프로그램 종료\n"
     ]
    }
   ],
   "source": [
    "print('수를 입력하세요!')\n",
    "num = int(input())\n",
    "\n",
    "if num == 0 :\n",
    "    print(\"'0'은 나눗셈에 이용할 수 없습니다.\")\n",
    "else : \n",
    "    print(\"3/\",num,'=',3/num)\n",
    "    \n",
    "print('프로그램 종료')"
   ]
  },
  {
   "cell_type": "code",
   "execution_count": 8,
   "id": "29fc7218",
   "metadata": {},
   "outputs": [
    {
     "name": "stdout",
     "output_type": "stream",
     "text": [
      "요일(월~일)을 입력하세요.\n",
      "일\n",
      "Not Monday\n",
      "End\n"
     ]
    }
   ],
   "source": [
    "print('요일(월~일)을 입력하세요.')\n",
    "day = input()\n",
    "\n",
    "if day == '월' : print('Monday')\n",
    "elif day in ['화','수','목','금','토','일'] : print('Not Monday')\n",
    "else : print(\"잘못입력하셨습니다.\")\n",
    "\n",
    "print(\"End\")"
   ]
  },
  {
   "cell_type": "code",
   "execution_count": 16,
   "id": "1fb6abee",
   "metadata": {},
   "outputs": [
    {
     "name": "stdout",
     "output_type": "stream",
     "text": [
      "수를 입력하세요!\n",
      "55\n",
      "10보다 큰 홀수\n",
      "End\n"
     ]
    }
   ],
   "source": [
    "print('수를 입력하세요!')\n",
    "n = int(input())\n",
    "\n",
    "if n > 10 :\n",
    "    if n % 2 == 0 :\n",
    "        print('10보다 큰 짝수')\n",
    "    else :\n",
    "        print(\"10보다 큰 홀수\")\n",
    "else :\n",
    "    if n % 2 == 0 :\n",
    "        print('10 이하의 짝수')\n",
    "    else :\n",
    "        print(\"10 이하의 홀수\")\n",
    "        \n",
    "print(\"End\")"
   ]
  },
  {
   "cell_type": "code",
   "execution_count": 18,
   "id": "edf5bce4",
   "metadata": {},
   "outputs": [
    {
     "name": "stdout",
     "output_type": "stream",
     "text": [
      "수를 입력하세요!\n",
      "6\n",
      "10 이하의 짝수\n",
      "End\n"
     ]
    }
   ],
   "source": [
    "print('수를 입력하세요!')\n",
    "n = int(input())\n",
    "\n",
    "if n > 10 and n % 2 == 0 :\n",
    "    print('10보다 큰 짝수')\n",
    "elif n > 10 and n % 2 != 0 :\n",
    "    print('10보다 큰 홀수')\n",
    "elif n % 2 == 0 : # n < 10 이란 조건은 위에서 이미 사용되었기에 생략가능\n",
    "    print('10 이하의 짝수')\n",
    "else :\n",
    "    print(\"10 이하의 홀수\")\n",
    "\n",
    "print(\"End\")"
   ]
  },
  {
   "cell_type": "markdown",
   "id": "44366262",
   "metadata": {},
   "source": [
    "### Java와 R에서는 switch문이 있지만(R은 which도 있음.) Python은 없음.   \n",
    "##### switch문(입력변수){\n",
    "#####       case 조건식1_의미가 있는 정수,문자, 문자열 :  \n",
    "#####       break; \n",
    "#####       case 조건식2 :  \n",
    "#####       break; \n",
    "#####        ....\n",
    "#####       default: ... \n",
    "#####       break;}"
   ]
  },
  {
   "cell_type": "markdown",
   "id": "09040178",
   "metadata": {},
   "source": [
    "#################################################################"
   ]
  },
  {
   "cell_type": "markdown",
   "id": "4b973372",
   "metadata": {},
   "source": [
    "# 반복문(while, for)\n",
    "##### Java(for, while, do-while), JS(for_for in, for of, for Each), R(for(), while(), repeat())\n",
    "### while문"
   ]
  },
  {
   "cell_type": "code",
   "execution_count": 25,
   "id": "43851b6a",
   "metadata": {},
   "outputs": [
    {
     "name": "stdout",
     "output_type": "stream",
     "text": [
      "몇번 반복할까요?3\n",
      "1회 반복\n",
      "2회 반복\n",
      "3회 반복\n",
      "End\n"
     ]
    }
   ],
   "source": [
    "limit = int(input('몇번 반복할까요?'))\n",
    "\n",
    "count = 0 \n",
    "while count < limit :\n",
    "    count += 1 # count = count + 1와 결과는 같지만 의미는 다르다. +=은 '누적'이다. \n",
    "    print('{0}회 반복'.format(count))\n",
    "    \n",
    "print('End')"
   ]
  },
  {
   "cell_type": "code",
   "execution_count": 28,
   "id": "3c9731aa",
   "metadata": {},
   "outputs": [
    {
     "name": "stdout",
     "output_type": "stream",
     "text": [
      "반복을 계속 할까요?[Y/N]  Y\n",
      "반복을 계속합니다.\n",
      "반복을 계속 할까요?[Y/N]  n\n",
      "잘못입력했습니다. 반복을 계속합니다.\n",
      "반복을 계속 할까요?[Y/N]  N\n",
      "반복을 멈춤니다.\n",
      "End\n"
     ]
    }
   ],
   "source": [
    "while True : #무한 루프 \n",
    "    answer = input('반복을 계속 할까요?[Y/N]  ')\n",
    "    \n",
    "    if answer ==  'Y':\n",
    "        print('반복을 계속합니다.')\n",
    "    elif answer == 'N' :\n",
    "        print('반복을 멈춤니다.')\n",
    "        break\n",
    "    else :\n",
    "        print(\"잘못입력했습니다. 반복을 계속합니다.\")\n",
    "        \n",
    "print(\"End\")"
   ]
  },
  {
   "cell_type": "markdown",
   "id": "a7fc68e7",
   "metadata": {},
   "source": [
    "### for문\n",
    "##### Java의 경우\n",
    "##### for(int i = 0 ; i < 10 ; i++) {  }\n",
    "##### for(int i : is) { }"
   ]
  },
  {
   "cell_type": "code",
   "execution_count": 32,
   "id": "6172b1f0",
   "metadata": {},
   "outputs": [
    {
     "name": "stdout",
     "output_type": "stream",
     "text": [
      " 10을 출력합니다.\n",
      " 20을 출력합니다.\n",
      " 30을 출력합니다.\n"
     ]
    }
   ],
   "source": [
    "for i in [10, 20, 30]:\n",
    "    print(\" {0}을 출력합니다.\".format(i))"
   ]
  },
  {
   "cell_type": "code",
   "execution_count": 36,
   "id": "45960df1",
   "metadata": {},
   "outputs": [
    {
     "name": "stdout",
     "output_type": "stream",
     "text": [
      "'상'을 출력합니다.\n",
      "'중'을 출력합니다.\n",
      "'하'을 출력합니다.\n"
     ]
    }
   ],
   "source": [
    "for s in [\"상\",\"중\",'하'] :\n",
    "    print(\"'{grade}'을 출력합니다.\".format(grade=s))"
   ]
  },
  {
   "cell_type": "code",
   "execution_count": 38,
   "id": "9c05580b",
   "metadata": {},
   "outputs": [
    {
     "name": "stdout",
     "output_type": "stream",
     "text": [
      "'상'을 출력합니다.\n",
      "'중'을 출력합니다.\n",
      "'하'을 출력합니다.\n"
     ]
    }
   ],
   "source": [
    "for s in \"상\",\"중\",'하' :\n",
    "    print(\"'{grade}'을 출력합니다.\".format(grade=s))"
   ]
  },
  {
   "cell_type": "code",
   "execution_count": 40,
   "id": "8dce2962",
   "metadata": {},
   "outputs": [
    {
     "name": "stdout",
     "output_type": "stream",
     "text": [
      "하\n",
      "나\n",
      "씩\n",
      " \n",
      "출\n",
      "력\n",
      " \n",
      "하\n",
      "지\n",
      "요\n"
     ]
    }
   ],
   "source": [
    "for s in \"하나씩 출력 하지요\" :\n",
    "    print(s)"
   ]
  },
  {
   "cell_type": "code",
   "execution_count": 42,
   "id": "97ccd91e",
   "metadata": {},
   "outputs": [
    {
     "name": "stdout",
     "output_type": "stream",
     "text": [
      "0\n",
      "1\n",
      "2\n",
      "3\n",
      "4\n"
     ]
    }
   ],
   "source": [
    "for i in range(0,5): #range(stard,stop)\n",
    "    print(i)"
   ]
  },
  {
   "cell_type": "code",
   "execution_count": 55,
   "id": "57ee0b68",
   "metadata": {},
   "outputs": [
    {
     "name": "stdout",
     "output_type": "stream",
     "text": [
      "0\n",
      "1\n",
      "2\n",
      "3\n",
      "4\n"
     ]
    }
   ],
   "source": [
    "for i in range(5) : \n",
    "    print(i)"
   ]
  },
  {
   "cell_type": "code",
   "execution_count": 44,
   "id": "669f13d8",
   "metadata": {},
   "outputs": [
    {
     "name": "stdout",
     "output_type": "stream",
     "text": [
      "0\n",
      "2\n",
      "4\n",
      "6\n",
      "8\n"
     ]
    }
   ],
   "source": [
    "for i in range(0,10,2) : #range(stard,stop,step)\n",
    "    print(i)"
   ]
  },
  {
   "cell_type": "code",
   "execution_count": 60,
   "id": "9e44e8f4",
   "metadata": {},
   "outputs": [
    {
     "name": "stdout",
     "output_type": "stream",
     "text": [
      "5\n",
      "4\n",
      "3\n",
      "2\n",
      "1\n"
     ]
    }
   ],
   "source": [
    "for i in range(5,0,-1) :\n",
    "    print(i)"
   ]
  },
  {
   "cell_type": "code",
   "execution_count": 66,
   "id": "cc3351f5",
   "metadata": {},
   "outputs": [
    {
     "name": "stdout",
     "output_type": "stream",
     "text": [
      "*\n",
      "**\n",
      "***\n",
      "****\n",
      "*****\n"
     ]
    }
   ],
   "source": [
    "for i in range(1,6) :\n",
    "    for j in range(i) :\n",
    "        print('*',end = \"\")\n",
    "        \n",
    "    print()"
   ]
  },
  {
   "cell_type": "code",
   "execution_count": 67,
   "id": "0156cc56",
   "metadata": {},
   "outputs": [
    {
     "name": "stdout",
     "output_type": "stream",
     "text": [
      "2  4  6  8  10  12  14  16  18  \n",
      "3  6  9  12  15  18  21  24  27  \n",
      "4  8  12  16  20  24  28  32  36  \n",
      "5  10  15  20  25  30  35  40  45  \n",
      "6  12  18  24  30  36  42  48  54  \n",
      "7  14  21  28  35  42  49  56  63  \n",
      "8  16  24  32  40  48  56  64  72  \n",
      "9  18  27  36  45  54  63  72  81  \n"
     ]
    }
   ],
   "source": [
    "for j in range(2,10) :\n",
    "    for i in range(1,10) :\n",
    "        print(j*i,end = \"  \")\n",
    "        \n",
    "    print(\"\")"
   ]
  },
  {
   "cell_type": "code",
   "execution_count": 70,
   "id": "d24be962",
   "metadata": {},
   "outputs": [
    {
     "name": "stdout",
     "output_type": "stream",
     "text": [
      "애플 : www.apple.com\n",
      "python : www.python.org\n",
      "naver : www.naver.com\n"
     ]
    }
   ],
   "source": [
    "dic = {\"애플\":\"www.apple.com\", \"python\":\"www.python.org\",\"naver\":\"www.naver.com\"}\n",
    "\n",
    "for k, v in dic.items() :\n",
    "    print(\"{0} : {1}\".format(k,v))"
   ]
  },
  {
   "cell_type": "code",
   "execution_count": 72,
   "id": "e9703437",
   "metadata": {},
   "outputs": [
    {
     "name": "stdout",
     "output_type": "stream",
     "text": [
      "0\n",
      "2\n",
      "4\n",
      "6\n",
      "8\n"
     ]
    }
   ],
   "source": [
    "for i in range(10) :\n",
    "    if i % 2 == 1 :\n",
    "        continue #뒤이어 오는 조건을 무시하고 이전구문을 진행한다.\n",
    "        print(i) #무시됨. \n",
    "    print(i)"
   ]
  },
  {
   "cell_type": "markdown",
   "id": "acbb40e5",
   "metadata": {},
   "source": [
    "### 간단하게 반복하는 한 줄 for문(Coprehension)"
   ]
  },
  {
   "cell_type": "code",
   "execution_count": 77,
   "id": "cca90d45",
   "metadata": {},
   "outputs": [
    {
     "name": "stdout",
     "output_type": "stream",
     "text": [
      "[1, 4, 9, 16, 25]\n"
     ]
    }
   ],
   "source": [
    "num = [1, 2, 3, 4, 5]\n",
    "square = []\n",
    "\n",
    "for i in num : \n",
    "    square.append(i**2)\n",
    "    \n",
    "print(square)"
   ]
  },
  {
   "cell_type": "code",
   "execution_count": 83,
   "id": "35ad2545",
   "metadata": {},
   "outputs": [
    {
     "name": "stdout",
     "output_type": "stream",
     "text": [
      "[1, 4, 9, 16, 25]\n"
     ]
    }
   ],
   "source": [
    "num = [1, 2, 3, 4, 5]\n",
    "square = [i**2 for i in num]\n",
    "print(square)"
   ]
  },
  {
   "cell_type": "code",
   "execution_count": 85,
   "id": "b9dc014f",
   "metadata": {},
   "outputs": [
    {
     "name": "stdout",
     "output_type": "stream",
     "text": [
      "[9, 16, 25]\n"
     ]
    }
   ],
   "source": [
    "num = [1, 2, 3, 4, 5]\n",
    "square = []\n",
    "\n",
    "for i in num :\n",
    "    if i >= 3 :\n",
    "        square.append(i**2)\n",
    "\n",
    "print(square)"
   ]
  },
  {
   "cell_type": "code",
   "execution_count": 86,
   "id": "af7ab991",
   "metadata": {},
   "outputs": [
    {
     "name": "stdout",
     "output_type": "stream",
     "text": [
      "[9, 16, 25]\n"
     ]
    }
   ],
   "source": [
    "num = [1, 2, 3, 4, 5]\n",
    "square = [i**2 for i in num if i >= 3]\n",
    "print(square)"
   ]
  },
  {
   "cell_type": "code",
   "execution_count": null,
   "id": "d97fbc22",
   "metadata": {},
   "outputs": [],
   "source": []
  }
 ],
 "metadata": {
  "kernelspec": {
   "display_name": "Python 3 (ipykernel)",
   "language": "python",
   "name": "python3"
  },
  "language_info": {
   "codemirror_mode": {
    "name": "ipython",
    "version": 3
   },
   "file_extension": ".py",
   "mimetype": "text/x-python",
   "name": "python",
   "nbconvert_exporter": "python",
   "pygments_lexer": "ipython3",
   "version": "3.7.13"
  }
 },
 "nbformat": 4,
 "nbformat_minor": 5
}
