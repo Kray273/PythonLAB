{
 "cells": [
  {
   "cell_type": "markdown",
   "id": "25da56ed",
   "metadata": {},
   "source": [
    "# 함수"
   ]
  },
  {
   "cell_type": "markdown",
   "id": "3fb94038",
   "metadata": {},
   "source": [
    "##### JS의 경우 function()을 통해 이름이 있는 함수(선언적  함수)와 이름이 없는 함수(Anonymous Functions) 정의\n",
    "##### R의 경우도 function()으로 함수를 정의, 인수를 통해 호출"
   ]
  },
  {
   "cell_type": "code",
   "execution_count": 1,
   "id": "47c48845",
   "metadata": {},
   "outputs": [
    {
     "name": "stdout",
     "output_type": "stream",
     "text": [
      "Hello Python!!\n"
     ]
    }
   ],
   "source": [
    "# Python 함수 정의 방법\n",
    "def hello() :\n",
    "    print(\"Hello Python!!\")\n",
    "    \n",
    "hello() # 호출 방법"
   ]
  },
  {
   "cell_type": "code",
   "execution_count": 4,
   "id": "2885eb70",
   "metadata": {},
   "outputs": [
    {
     "ename": "TypeError",
     "evalue": "my_abs() missing 1 required positional argument: 'arg'",
     "output_type": "error",
     "traceback": [
      "\u001b[1;31m---------------------------------------------------------------------------\u001b[0m",
      "\u001b[1;31mTypeError\u001b[0m                                 Traceback (most recent call last)",
      "\u001b[1;32m~\\AppData\\Local\\Temp\\ipykernel_127460\\2805718867.py\u001b[0m in \u001b[0;36m<module>\u001b[1;34m\u001b[0m\n\u001b[0;32m      8\u001b[0m     \u001b[1;32mreturn\u001b[0m \u001b[0mresult\u001b[0m\u001b[1;33m\u001b[0m\u001b[1;33m\u001b[0m\u001b[0m\n\u001b[0;32m      9\u001b[0m \u001b[1;33m\u001b[0m\u001b[0m\n\u001b[1;32m---> 10\u001b[1;33m \u001b[0mmy_abs\u001b[0m\u001b[1;33m(\u001b[0m\u001b[1;33m)\u001b[0m\u001b[1;33m\u001b[0m\u001b[1;33m\u001b[0m\u001b[0m\n\u001b[0m",
      "\u001b[1;31mTypeError\u001b[0m: my_abs() missing 1 required positional argument: 'arg'"
     ]
    }
   ],
   "source": [
    "# 호출과 반환\n",
    "def my_abs(arg):\n",
    "    if(arg < 0) :\n",
    "        result = arg * -1\n",
    "    else : \n",
    "        result = arg\n",
    "    \n",
    "    return result\n",
    "\n",
    "my_abs()"
   ]
  },
  {
   "cell_type": "code",
   "execution_count": 6,
   "id": "60ab3c3f",
   "metadata": {},
   "outputs": [
    {
     "data": {
      "text/plain": [
       "40"
      ]
     },
     "execution_count": 6,
     "metadata": {},
     "output_type": "execute_result"
    }
   ],
   "source": [
    "my_abs(-40)"
   ]
  },
  {
   "cell_type": "code",
   "execution_count": 7,
   "id": "127db74f",
   "metadata": {},
   "outputs": [
    {
     "name": "stdout",
     "output_type": "stream",
     "text": [
      "<function my_abs at 0x000002BBF6FD8168>\n"
     ]
    }
   ],
   "source": [
    "print(my_abs) #할당된 주소값 반환(16진법), Java에서는 주소값이 아닌 toString을 반환함. "
   ]
  },
  {
   "cell_type": "code",
   "execution_count": 8,
   "id": "34fe4787",
   "metadata": {},
   "outputs": [
    {
     "name": "stdout",
     "output_type": "stream",
     "text": [
      "가보자고\n",
      "가보자고\n",
      "가보자고\n"
     ]
    }
   ],
   "source": [
    "# 인자(argument) 이름의 올바른 예 \n",
    "\n",
    "def print_string1(text, count) : \n",
    "    for i in range(count) :\n",
    "        print(text)\n",
    "\n",
    "print_string1('가보자고', 3)"
   ]
  },
  {
   "cell_type": "code",
   "execution_count": 13,
   "id": "1d497534",
   "metadata": {},
   "outputs": [
    {
     "name": "stdout",
     "output_type": "stream",
     "text": [
      "가보자고\n"
     ]
    }
   ],
   "source": [
    "# 기본값 인자(argument)\n",
    "\n",
    "def print_string1(text, count =1) : #기본값을 지정할 수 있다. R에서의 스킴과 \n",
    "    for i in range(count) :\n",
    "        print(text)\n",
    "\n",
    "print_string1('가보자고')"
   ]
  },
  {
   "cell_type": "markdown",
   "id": "a55257f0",
   "metadata": {},
   "source": [
    "### - 키워드 인자(Keyword Argument)\n",
    "##### : 호출자가 매개변수의 이름을 일일이 지정해 데이터를 입력하는 것"
   ]
  },
  {
   "cell_type": "code",
   "execution_count": 18,
   "id": "e2cd9329",
   "metadata": {},
   "outputs": [
    {
     "name": "stdout",
     "output_type": "stream",
     "text": [
      "name = Sava\n",
      "position = student\n",
      "nationality = EUR\n"
     ]
    }
   ],
   "source": [
    "def print_personnel(name, position = 'staff', nationality = 'KOR' ) : \n",
    "    print('name = {0}'.format(name))\n",
    "    print('position = {0}'.format(position))    \n",
    "    print('nationality = {0}'.format(nationality))\n",
    "    \n",
    "print_personnel('Sava','student','EUR')"
   ]
  },
  {
   "cell_type": "code",
   "execution_count": 19,
   "id": "dc5ab3fb",
   "metadata": {},
   "outputs": [
    {
     "name": "stdout",
     "output_type": "stream",
     "text": [
      "name = Java\n",
      "position = student\n",
      "nationality = KOR\n"
     ]
    }
   ],
   "source": [
    "print_personnel('Java','student')"
   ]
  },
  {
   "cell_type": "code",
   "execution_count": 21,
   "id": "e169ad9b",
   "metadata": {},
   "outputs": [
    {
     "name": "stdout",
     "output_type": "stream",
     "text": [
      "name = Kava\n",
      "position = staff\n",
      "nationality = KOR\n"
     ]
    }
   ],
   "source": [
    "print_personnel(name = \"Kava\")"
   ]
  },
  {
   "cell_type": "code",
   "execution_count": 23,
   "id": "dcf24a89",
   "metadata": {},
   "outputs": [
    {
     "name": "stdout",
     "output_type": "stream",
     "text": [
      "name = Nava\n",
      "position = staff\n",
      "nationality = IOC\n"
     ]
    }
   ],
   "source": [
    "print_personnel(nationality='IOC',name = \"Nava\") #키워드를 지정해주면, 순서는 상관 없다. But R과 달이 축약은 안됨."
   ]
  },
  {
   "cell_type": "markdown",
   "id": "d790c1b8",
   "metadata": {},
   "source": [
    "### - 가변 매개 변수(Arbitrary Argument List)"
   ]
  },
  {
   "cell_type": "code",
   "execution_count": 24,
   "id": "8f4bc069",
   "metadata": {},
   "outputs": [
    {
     "name": "stdout",
     "output_type": "stream",
     "text": [
      "<class 'tuple'>\n",
      "아버지가방에들어간다\n"
     ]
    }
   ],
   "source": [
    "def merge_string(*text_list) : \n",
    "    print(type(text_list)) # tuple은 값을 변화시키지 않는다. \n",
    "    \n",
    "    result = ''\n",
    "    for s in text_list :\n",
    "        result += s\n",
    "        \n",
    "    return result\n",
    "\n",
    "print(merge_string('아버지','가방에','들어간다'))"
   ]
  },
  {
   "cell_type": "code",
   "execution_count": 30,
   "id": "18cb433a",
   "metadata": {},
   "outputs": [
    {
     "name": "stdout",
     "output_type": "stream",
     "text": [
      "<class 'dict'>\n",
      "축구 = 손흥민\n",
      "농구 = 장태풍\n",
      "야구 = 박찬호\n",
      "None\n"
     ]
    }
   ],
   "source": [
    "def print_team(**players) : \n",
    "    print(type(players))\n",
    "    \n",
    "    for k in players.keys() : \n",
    "        print('{0} = {1}'.format(k,players[k]))\n",
    "        \n",
    "print_team(축구='손흥민',농구 ='장태풍', 야구 = '박찬호')"
   ]
  },
  {
   "cell_type": "code",
   "execution_count": 41,
   "id": "62309b56",
   "metadata": {},
   "outputs": [],
   "source": [
    "def print_arga1(argc, *argv) : \n",
    "    for i in range(argc) :\n",
    "        print(argv[i])"
   ]
  },
  {
   "cell_type": "code",
   "execution_count": 39,
   "id": "9aeb08e7",
   "metadata": {},
   "outputs": [
    {
     "name": "stdout",
     "output_type": "stream",
     "text": [
      "누구나\n",
      "한번쯤\n",
      "눈물을\n"
     ]
    }
   ],
   "source": [
    "print_arga1(3,'누구나','한번쯤','눈물을','...')"
   ]
  },
  {
   "cell_type": "code",
   "execution_count": 34,
   "id": "b53b4a07",
   "metadata": {},
   "outputs": [
    {
     "ename": "SyntaxError",
     "evalue": "positional argument follows keyword argument (2280328043.py, line 1)",
     "output_type": "error",
     "traceback": [
      "\u001b[1;36m  File \u001b[1;32m\"C:\\Users\\tjouen-jr\\AppData\\Local\\Temp\\ipykernel_127460\\2280328043.py\"\u001b[1;36m, line \u001b[1;32m1\u001b[0m\n\u001b[1;33m    print_arga1(argc=3,'누구나','한번쯤','눈물을','...')\u001b[0m\n\u001b[1;37m                      ^\u001b[0m\n\u001b[1;31mSyntaxError\u001b[0m\u001b[1;31m:\u001b[0m positional argument follows keyword argument\n"
     ]
    }
   ],
   "source": [
    "#주의\n",
    "print_arga1(argc=3,'누구나','한번쯤','눈물을','...') # Error 가변매개변수가 나머지 인자들을 봐야하는데 그것은 어렵다.  "
   ]
  },
  {
   "cell_type": "code",
   "execution_count": 37,
   "id": "6425c063",
   "metadata": {},
   "outputs": [
    {
     "ename": "SyntaxError",
     "evalue": "keyword argument repeated (2548584758.py, line 2)",
     "output_type": "error",
     "traceback": [
      "\u001b[1;36m  File \u001b[1;32m\"C:\\Users\\tjouen-jr\\AppData\\Local\\Temp\\ipykernel_127460\\2548584758.py\"\u001b[1;36m, line \u001b[1;32m2\u001b[0m\n\u001b[1;33m    print_arga1(argc=3,argv='누구나',argv='한번쯤',argv='눈물을',argv='...') # Error\u001b[0m\n\u001b[1;37m                                       ^\u001b[0m\n\u001b[1;31mSyntaxError\u001b[0m\u001b[1;31m:\u001b[0m keyword argument repeated\n"
     ]
    }
   ],
   "source": [
    "#주의\n",
    "print_arga1(argc=3,argv='누구나',argv='한번쯤',argv='눈물을',argv='...') # Error 키워드는 반복될 수 없다. "
   ]
  },
  {
   "cell_type": "code",
   "execution_count": 42,
   "id": "67253f64",
   "metadata": {},
   "outputs": [],
   "source": [
    "def print_arga2(*argv, argc) : \n",
    "    for i in range(argc) :\n",
    "        print(argv[i])"
   ]
  },
  {
   "cell_type": "code",
   "execution_count": 45,
   "id": "df380b64",
   "metadata": {},
   "outputs": [
    {
     "ename": "TypeError",
     "evalue": "print_arga2() missing 1 required keyword-only argument: 'argc'",
     "output_type": "error",
     "traceback": [
      "\u001b[1;31m---------------------------------------------------------------------------\u001b[0m",
      "\u001b[1;31mTypeError\u001b[0m                                 Traceback (most recent call last)",
      "\u001b[1;32m~\\AppData\\Local\\Temp\\ipykernel_127460\\3168785223.py\u001b[0m in \u001b[0;36m<module>\u001b[1;34m\u001b[0m\n\u001b[1;32m----> 1\u001b[1;33m \u001b[0mprint_arga2\u001b[0m\u001b[1;33m(\u001b[0m\u001b[1;34m'누구나'\u001b[0m\u001b[1;33m,\u001b[0m\u001b[1;34m'한번쯤'\u001b[0m\u001b[1;33m,\u001b[0m\u001b[1;34m'눈물을'\u001b[0m\u001b[1;33m,\u001b[0m\u001b[1;34m'...'\u001b[0m\u001b[1;33m,\u001b[0m \u001b[1;36m3\u001b[0m\u001b[1;33m)\u001b[0m \u001b[1;31m#Error 어디까지가 가변인자 인줄 모른다.\u001b[0m\u001b[1;33m\u001b[0m\u001b[1;33m\u001b[0m\u001b[0m\n\u001b[0m",
      "\u001b[1;31mTypeError\u001b[0m: print_arga2() missing 1 required keyword-only argument: 'argc'"
     ]
    }
   ],
   "source": [
    "print_arga2('누구나','한번쯤','눈물을','...', 3) #Error 어디까지가 가변인자 인줄 모른다."
   ]
  },
  {
   "cell_type": "code",
   "execution_count": 46,
   "id": "88163ab4",
   "metadata": {},
   "outputs": [
    {
     "name": "stdout",
     "output_type": "stream",
     "text": [
      "누구나\n",
      "한번쯤\n",
      "눈물을\n"
     ]
    }
   ],
   "source": [
    "print_arga2('누구나','한번쯤','눈물을','...',argc=3)"
   ]
  },
  {
   "cell_type": "code",
   "execution_count": 49,
   "id": "ea4882be",
   "metadata": {},
   "outputs": [
    {
     "name": "stdout",
     "output_type": "stream",
     "text": [
      "6\n"
     ]
    }
   ],
   "source": [
    "# 호출자에게 반환하기\n",
    "\n",
    "def multiply(x1, x2) : \n",
    "    return x1 * x2  # return의 기능 1. 함수를 즉시 종료/ 2. 호출자에게 결과 전달  \n",
    "\n",
    "result = multiply(2,3)\n",
    "print(result)"
   ]
  },
  {
   "cell_type": "code",
   "execution_count": 50,
   "id": "a9f68db4",
   "metadata": {},
   "outputs": [],
   "source": [
    "# 한 함수 안에 여러 개의 return배치 가능\n",
    "\n",
    "def my_abs1(arg) :\n",
    "    if arg < 0 :\n",
    "        return arg * -1\n",
    "    else : \n",
    "        return arg "
   ]
  },
  {
   "cell_type": "code",
   "execution_count": 52,
   "id": "722a9681",
   "metadata": {},
   "outputs": [
    {
     "name": "stdout",
     "output_type": "stream",
     "text": [
      "10\n"
     ]
    }
   ],
   "source": [
    "result = my_abs1(-10)\n",
    "print(result)"
   ]
  },
  {
   "cell_type": "code",
   "execution_count": 53,
   "id": "6e0a574c",
   "metadata": {},
   "outputs": [],
   "source": [
    "# 주의 사항\n",
    "def my_abs2(arg) :\n",
    "    if arg < 0 :\n",
    "        return arg * -1\n",
    "    elif arg > 0 :\n",
    "        return arg"
   ]
  },
  {
   "cell_type": "code",
   "execution_count": 55,
   "id": "9bb0a7d7",
   "metadata": {},
   "outputs": [
    {
     "name": "stdout",
     "output_type": "stream",
     "text": [
      "None\n"
     ]
    }
   ],
   "source": [
    "result = my_abs2(0)\n",
    "print(result)"
   ]
  },
  {
   "cell_type": "code",
   "execution_count": null,
   "id": "04514997",
   "metadata": {},
   "outputs": [],
   "source": []
  }
 ],
 "metadata": {
  "kernelspec": {
   "display_name": "Python 3 (ipykernel)",
   "language": "python",
   "name": "python3"
  },
  "language_info": {
   "codemirror_mode": {
    "name": "ipython",
    "version": 3
   },
   "file_extension": ".py",
   "mimetype": "text/x-python",
   "name": "python",
   "nbconvert_exporter": "python",
   "pygments_lexer": "ipython3",
   "version": "3.7.13"
  }
 },
 "nbformat": 4,
 "nbformat_minor": 5
}
