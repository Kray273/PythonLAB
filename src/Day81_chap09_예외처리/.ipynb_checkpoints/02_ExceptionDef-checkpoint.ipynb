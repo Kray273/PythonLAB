{
 "cells": [
  {
   "cell_type": "markdown",
   "id": "98d1ba2d",
   "metadata": {},
   "source": [
    "## 파이썬의 예외 처리 구문1 "
   ]
  },
  {
   "cell_type": "code",
   "execution_count": 16,
   "id": "62e4e5cb",
   "metadata": {},
   "outputs": [
    {
     "name": "stdout",
     "output_type": "stream",
     "text": [
      "예외가 발생했습니다.\n",
      "End\n"
     ]
    }
   ],
   "source": [
    "# 파이썬의 예외 처리 구문1 (basic)\n",
    "'''\n",
    "try :\n",
    "     문제가 없는 경우 실행할 코드 \n",
    "except :  \n",
    "    문제가 있는 경우 실행할 코드\n",
    "'''\n",
    "try : \n",
    "    print( 1/0) #기존 코드는 에러를 낸다. 숫자를 0으로 나눌 수 없다. \n",
    "except : \n",
    "    print('예외가 발생했습니다.')\n",
    "    \n",
    "print(\"End\")"
   ]
  },
  {
   "cell_type": "code",
   "execution_count": 15,
   "id": "6f71faac",
   "metadata": {},
   "outputs": [
    {
     "name": "stdout",
     "output_type": "stream",
     "text": [
      "첨자(인덱스)를 입력하세요 : 3\n",
      "잘못된 첨자입니다.(list index out of range)\n",
      "End\n"
     ]
    }
   ],
   "source": [
    "# 파이썬의 예외 처리 구문2 (중복)\n",
    "\n",
    "'''\n",
    "try :\n",
    "    문제가 없는 경우 실행할 코드 \n",
    "except 예외형식1 as e:  \n",
    "    문제가 있는 경우 실행할 코드\n",
    "except 예외형식2 as e:  \n",
    "    문제가 있는 경우 실행할 코드\n",
    "'''\n",
    "\n",
    "my_list = [1,2,3]\n",
    "\n",
    "try : \n",
    "    index = int(input(\"첨자(인덱스)를 입력하세요 : \"))  # 3이상 입력시 error 존재하지 않는 인덱스를 호출(IndexError)\n",
    "                                                        # 문자 입력시 error 문자는 상수령으로 변경 불가(ValueError)\n",
    "    print(my_list[index] / 0)  #error 숫자를 0으로 나눌 수 없다. (ZeroDivisionError)\n",
    "except IndexError as e: \n",
    "    print(\"잘못된 첨자입니다.({0})\".format(e)) \n",
    "except ValueError as e:\n",
    "     print(\"잘못된 값입니다.({0})\".format(e)) \n",
    "except ZeroDivisionError as e:\n",
    "    print(\"0으로 나눌 수 없습니다.({0})\".format(e))\n",
    "     \n",
    "print(\"End\")"
   ]
  },
  {
   "cell_type": "code",
   "execution_count": 14,
   "id": "02a09079",
   "metadata": {},
   "outputs": [
    {
     "name": "stdout",
     "output_type": "stream",
     "text": [
      "첨자(인덱스)를 입력하세요 : 1\n",
      "my_list[1] : 2\n",
      "리스트 요소 출력의 성공.\n",
      "End\n"
     ]
    }
   ],
   "source": [
    "# 파이썬의 예외 처리 구문3 (else)\n",
    "\n",
    "'''\n",
    "try :\n",
    "    문제가 없는 경우 실행할 코드 \n",
    "except 예외형식1 as e:  \n",
    "    문제가 있는 경우 실행할 코드\n",
    "else : \n",
    "    except절을 만나지 않았을 경우 실행하는 코드 블럭\n",
    "'''\n",
    "\n",
    "my_list = [1,2,3]\n",
    "try : \n",
    "    index = int(input(\"첨자(인덱스)를 입력하세요 : \")) \n",
    "    print(\"my_list[{0}] : {1}\".format(index, my_list[index]))  \n",
    "except Exception as e:  # 모든 예외는 여기에 걸린다.\n",
    "    print(\"예외가 발생하였습니다.({0})\".format(e))\n",
    "else : # Exception을 실행할 이유가 없을 때!\n",
    "    print(\"리스트 요소 출력의 성공.\") \n",
    "    # else라고 하는 예외처리의 주의 사항은 예외가 발생이 되어지지 않으면 발생한다는 개념으로 잡고 있는게 좋다.\n",
    "\n",
    "print(\"End\")"
   ]
  },
  {
   "cell_type": "code",
   "execution_count": 21,
   "id": "a8570273",
   "metadata": {},
   "outputs": [
    {
     "name": "stdout",
     "output_type": "stream",
     "text": [
      "첨자(인덱스)를 입력하세요 : 4\n",
      "예외가 발생하였습니다.(list index out of range)\n",
      "어떤 일이 있어도 마무리합니다.\n",
      "End\n"
     ]
    }
   ],
   "source": [
    "# 파이썬의 예외 처리 구문4 (finally)\n",
    "\n",
    "'''\n",
    "try :\n",
    "    문제가 없는 경우 실행할 코드 \n",
    "except 예외형식1 as e:  \n",
    "    문제가 있는 경우 실행할 코드\n",
    "else : \n",
    "    except절을 만나지 않았을 경우 실행하는 코드 블럭\n",
    "finally :\n",
    "    예외를 발생하던 안하던 무조건 실행할 코드 블록\n",
    "    \n",
    "or\n",
    "\n",
    "try :\n",
    "    문제가 없는 경우 실행할 코드 \n",
    "except :  \n",
    "    예외처리 코드블록\n",
    "finally :\n",
    "    예외를 발생하던 안하던 무조건 실행할 코드 블록\n",
    "    \n",
    "or \n",
    "\n",
    "try :\n",
    "    문제가 없는 경우 실행할 코드 \n",
    "finally :\n",
    "    예외를 발생하던 안하던 무조건 실행할 코드 블록\n",
    "-- except/ else는 없어도 문제를 야기하지 않는다. 허나 그렇다면 예외처리를 하는 의미가 퇴색된다.--\n",
    "'''\n",
    "\n",
    "my_list = [1,2,3]\n",
    "try : \n",
    "    index = int(input(\"첨자(인덱스)를 입력하세요 : \")) \n",
    "    print(\"my_list[{0}] : {1}\".format(index, my_list[index]))  \n",
    "except Exception as e:  \n",
    "    print(\"예외가 발생하였습니다.({0})\".format(e))\n",
    "else : \n",
    "    print(\"리스트 요소 출력의 성공.\") \n",
    "finally :\n",
    "    print(\"어떤 일이 있어도 마무리합니다.\")\n",
    "\n",
    "print(\"End\")"
   ]
  },
  {
   "cell_type": "markdown",
   "id": "c46fcf95",
   "metadata": {},
   "source": [
    "## - 강제 예외 발생"
   ]
  },
  {
   "cell_type": "code",
   "execution_count": 25,
   "id": "e1ed9b87",
   "metadata": {},
   "outputs": [
    {
     "name": "stdout",
     "output_type": "stream",
     "text": [
      "숫자를 입력해볼까? : 123일까?\n"
     ]
    },
    {
     "ename": "Exception",
     "evalue": "입력 받은 문자열이 숫자로 구성되어 있지 않습니다.",
     "output_type": "error",
     "traceback": [
      "\u001b[1;31m---------------------------------------------------------------------------\u001b[0m",
      "\u001b[1;31mException\u001b[0m                                 Traceback (most recent call last)",
      "\u001b[1;32m~\\AppData\\Local\\Temp\\ipykernel_71168\\575173792.py\u001b[0m in \u001b[0;36m<module>\u001b[1;34m\u001b[0m\n\u001b[0;32m      3\u001b[0m \u001b[1;32mif\u001b[0m \u001b[0mtext\u001b[0m\u001b[1;33m.\u001b[0m\u001b[0misdigit\u001b[0m\u001b[1;33m(\u001b[0m\u001b[1;33m)\u001b[0m \u001b[1;33m==\u001b[0m \u001b[1;32mFalse\u001b[0m \u001b[1;33m:\u001b[0m \u001b[1;31m#text의 담겨있는 데이터가 숫자형인지 확인하는것.\u001b[0m\u001b[1;33m\u001b[0m\u001b[1;33m\u001b[0m\u001b[0m\n\u001b[0;32m      4\u001b[0m                               \u001b[1;31m# is로 시작하는 매서드들을 주로 판단과 관련!\u001b[0m\u001b[1;33m\u001b[0m\u001b[1;33m\u001b[0m\u001b[1;33m\u001b[0m\u001b[0m\n\u001b[1;32m----> 5\u001b[1;33m     \u001b[1;32mraise\u001b[0m \u001b[0mException\u001b[0m\u001b[1;33m(\u001b[0m\u001b[1;34m\"입력 받은 문자열이 숫자로 구성되어 있지 않습니다.\"\u001b[0m\u001b[1;33m)\u001b[0m \u001b[1;31m#예외 발생시 메시지 입력!\u001b[0m\u001b[1;33m\u001b[0m\u001b[1;33m\u001b[0m\u001b[0m\n\u001b[0m\u001b[0;32m      6\u001b[0m         \u001b[1;31m#인스턴스 생성을 요청하고 그 객체를 error로 던져라 라는 의미\u001b[0m\u001b[1;33m\u001b[0m\u001b[1;33m\u001b[0m\u001b[1;33m\u001b[0m\u001b[0m\n\u001b[0;32m      7\u001b[0m         \u001b[1;31m# Java의 경우 throw()\u001b[0m\u001b[1;33m\u001b[0m\u001b[1;33m\u001b[0m\u001b[1;33m\u001b[0m\u001b[0m\n",
      "\u001b[1;31mException\u001b[0m: 입력 받은 문자열이 숫자로 구성되어 있지 않습니다."
     ]
    }
   ],
   "source": [
    "text = input(\"숫자를 입력해볼까? : \")\n",
    "\n",
    "if text.isdigit() == False : #text의 담겨있는 데이터가 숫자형인지 확인하는것. \n",
    "                              # is로 시작하는 매서드들을 주로 판단과 관련!\n",
    "    raise Exception(\"입력 받은 문자열이 숫자로 구성되어 있지 않습니다.\") #예외 발생시 메시지 입력!\n",
    "        #인스턴스 생성을 요청하고 그 객체를 error로 던져라 라는 의미\n",
    "        # Java의 경우 throw()\n",
    "    \n",
    "print(\"프로그햄 맛나겠지만 종료....\")"
   ]
  },
  {
   "cell_type": "code",
   "execution_count": 29,
   "id": "4df966ee",
   "metadata": {},
   "outputs": [
    {
     "name": "stdout",
     "output_type": "stream",
     "text": [
      "숫자를 입력해볼까? : 감자\n",
      "예외가 발생하였습니다. : 숫자 입력 해달라고!!\n",
      "포로그햄? 종료....\n"
     ]
    }
   ],
   "source": [
    "try : \n",
    "    text = input(\"숫자를 입력해볼까? : \")\n",
    "    \n",
    "    if text.isdigit() == False : \n",
    "        raise Exception(\"숫자 입력 해달라고!!\")\n",
    "\n",
    "except Exception as e :\n",
    "     print(\"예외가 발생하였습니다. : {0}\".format(e))\n",
    "        \n",
    "\n",
    "print(\"포로그햄? 종료....\")"
   ]
  },
  {
   "cell_type": "code",
   "execution_count": 35,
   "id": "8446a19a",
   "metadata": {},
   "outputs": [
    {
     "name": "stdout",
     "output_type": "stream",
     "text": [
      "1~10 사이의 수를 입력하세요 : 햄\n",
      "예외가 발생하였습니다. : invalid literal for int() with base 10: '햄'\n",
      "무조건 종료! 끝끝끝! \n"
     ]
    }
   ],
   "source": [
    "def some_function() : \n",
    "    num = int(input(\"1~10 사이의 수를 입력하세요 : \"))\n",
    "    \n",
    "    if num < 1  or num > 10 :\n",
    "        raise Exception(\"1~10 사이만 받습니다. {0}는 안받아 돌아가!\".format(num))\n",
    "    else : \n",
    "        print(\"입력한 수는 {0}입니다. Good! \".format(num))\n",
    "\n",
    "try : \n",
    "    some_function()\n",
    "except Exception as e :\n",
    "    print(\"예외가 발생하였습니다. : {0}\".format(e))\n",
    "finally : \n",
    "    print(\"무조건 종료! 끝끝끝! \")"
   ]
  },
  {
   "cell_type": "code",
   "execution_count": 38,
   "id": "66693dc8",
   "metadata": {},
   "outputs": [
    {
     "ename": "IndentationError",
     "evalue": "unexpected indent (4009404946.py, line 2)",
     "output_type": "error",
     "traceback": [
      "\u001b[1;36m  File \u001b[1;32m\"C:\\Users\\tjouen-jr\\AppData\\Local\\Temp\\ipykernel_71168\\4009404946.py\"\u001b[1;36m, line \u001b[1;32m2\u001b[0m\n\u001b[1;33m    some_function()\u001b[0m\n\u001b[1;37m    ^\u001b[0m\n\u001b[1;31mIndentationError\u001b[0m\u001b[1;31m:\u001b[0m unexpected indent\n"
     ]
    }
   ],
   "source": [
    "# 예외를 처리를 가진 함수를 실행하려면 반드시 try-except문 안에서 실행되어야 한다.\n",
    "# try : \n",
    "    some_function()\n",
    "# except Exception as e :\n",
    "  #  print(\"예외가 발생하였습니다. : {0}\".format(e))"
   ]
  },
  {
   "cell_type": "code",
   "execution_count": 41,
   "id": "7c82efe0",
   "metadata": {},
   "outputs": [
    {
     "name": "stdout",
     "output_type": "stream",
     "text": [
      "1~10 사이의 수를 입력하세요 : -10\n",
      "(1) 예외가 발생했습니다. 1~10 사이만 받습니다. -10는 안받아 돌아가!\n",
      "(2) 예외가 발생했습니다. 1~10 사이만 받습니다. -10는 안받아 돌아가!\n"
     ]
    }
   ],
   "source": [
    "#Java에서 예외를 던져서 다른곳에서 처리하는 기능을 구현\n",
    "\n",
    "def some_function() : \n",
    "    num = int(input(\"1~10 사이의 수를 입력하세요 : \"))\n",
    "    \n",
    "    if num < 1  or num > 10 :\n",
    "        raise Exception(\"1~10 사이만 받습니다. {0}는 안받아 돌아가!\".format(num))\n",
    "    else : \n",
    "        print(\"입력한 수는 {0}입니다. Good! \".format(num))\n",
    "        \n",
    "def some_function_caller() : \n",
    "    try :\n",
    "        some_function()\n",
    "    except Exception as e : \n",
    "        print(\"(1) 예외가 발생했습니다. {0}\".format(e))\n",
    "        raise  # some_function() 발생된 에러를 some_function_caller() 함수쪽으로 던져줌! \n",
    "        \n",
    "try :\n",
    "    some_function_caller()\n",
    "except Exception as e :\n",
    "    print(\"(2) 예외가 발생했습니다. {0}\".format(e))\n",
    "    "
   ]
  },
  {
   "cell_type": "markdown",
   "id": "94bb6ced",
   "metadata": {},
   "source": [
    "## - 사용자 정의 예외 형식"
   ]
  },
  {
   "cell_type": "code",
   "execution_count": 42,
   "id": "3b73988c",
   "metadata": {},
   "outputs": [
    {
     "ename": "MyException",
     "evalue": "MyException이 발생했습니다.",
     "output_type": "error",
     "traceback": [
      "\u001b[1;31m---------------------------------------------------------------------------\u001b[0m",
      "\u001b[1;31mMyException\u001b[0m                               Traceback (most recent call last)",
      "\u001b[1;32m~\\AppData\\Local\\Temp\\ipykernel_71168\\199438628.py\u001b[0m in \u001b[0;36m<module>\u001b[1;34m\u001b[0m\n\u001b[0;32m      7\u001b[0m \u001b[1;33m\u001b[0m\u001b[0m\n\u001b[0;32m      8\u001b[0m \u001b[1;32mif\u001b[0m \u001b[0meverything_is_fine\u001b[0m \u001b[1;33m==\u001b[0m \u001b[1;32mFalse\u001b[0m \u001b[1;33m:\u001b[0m\u001b[1;33m\u001b[0m\u001b[1;33m\u001b[0m\u001b[0m\n\u001b[1;32m----> 9\u001b[1;33m     \u001b[1;32mraise\u001b[0m \u001b[0mMyException\u001b[0m\u001b[1;33m(\u001b[0m\u001b[1;33m)\u001b[0m \u001b[1;31m#메모리 할당과 함께 인스턴스를 할당하고 시작주소값을 반환한다.\u001b[0m\u001b[1;33m\u001b[0m\u001b[1;33m\u001b[0m\u001b[0m\n\u001b[0m",
      "\u001b[1;31mMyException\u001b[0m: MyException이 발생했습니다."
     ]
    }
   ],
   "source": [
    "class MyException(Exception) : # Exception을 상속하면 예외를 가진 자료형이 된다. \n",
    "    # Java도 동일하게 Exception을 상속받고, 생성자를 만들어 메세지를 전달해주면 메세지가 출력된다. \n",
    "    def __init__(self):\n",
    "        super().__init__(\"MyException이 발생했습니다.\") # 부모의 정의된 생성자를 호출하면서, 메시지를 전달한다.\n",
    "\n",
    "everything_is_fine = False #변수에 False를 담음\n",
    "\n",
    "if everything_is_fine == False : \n",
    "    raise MyException() #메모리 할당과 함께 인스턴스를 할당하고 시작주소값을 반환한다. "
   ]
  },
  {
   "cell_type": "code",
   "execution_count": null,
   "id": "0ae19b88",
   "metadata": {},
   "outputs": [],
   "source": [
    "class InvaildIntException(Exception) : \n",
    "    def __init__(self, arg):\n",
    "        super().__init__(\"정수가 아닙니다. : {0}\".format(arg)) \n",
    "\n",
    "def convert_to_integer(text) : \n",
    "    if text.isdigit() : \n",
    "        return int(text)\n",
    "    else :\n",
    "        raise InvaildIntException()"
   ]
  },
  {
   "cell_type": "code",
   "execution_count": null,
   "id": "b80aa0df",
   "metadata": {},
   "outputs": [],
   "source": [
    "try :   \n",
    "    text = input(\"(사용자 정의 에외)숫자를 입력해주세요 : \")\n",
    "    number = convert_to_integer(text)\n",
    "except InvaildIntException as e :\n",
    "    print(\"예외가 발생했습니다. {0}\".format(e))\n",
    "else :\n",
    "    print(\"정수 형식으로 변환 되었습니다. : {0}({1})\".format(number,type(number))\n",
    "\n",
    "print(\"프로그램 종료\")"
   ]
  },
  {
   "cell_type": "code",
   "execution_count": null,
   "id": "dec08a09",
   "metadata": {},
   "outputs": [],
   "source": []
  }
 ],
 "metadata": {
  "kernelspec": {
   "display_name": "Python [conda env:tf_cpu] *",
   "language": "python",
   "name": "conda-env-tf_cpu-py"
  },
  "language_info": {
   "codemirror_mode": {
    "name": "ipython",
    "version": 3
   },
   "file_extension": ".py",
   "mimetype": "text/x-python",
   "name": "python",
   "nbconvert_exporter": "python",
   "pygments_lexer": "ipython3",
   "version": "3.7.13"
  }
 },
 "nbformat": 4,
 "nbformat_minor": 5
}
