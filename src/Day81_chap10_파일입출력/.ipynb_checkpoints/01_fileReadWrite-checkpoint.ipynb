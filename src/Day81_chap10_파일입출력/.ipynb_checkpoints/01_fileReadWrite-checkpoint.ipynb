{
 "cells": [
  {
   "cell_type": "code",
   "execution_count": 2,
   "id": "bc87a6c5",
   "metadata": {},
   "outputs": [
    {
     "name": "stdout",
     "output_type": "stream",
     "text": [
      "1\n"
     ]
    }
   ],
   "source": [
    "# file에 write하기\n",
    "\n",
    "# 파일 입출력을 위해서 스트림(통로)을 만들어 줘야 한다. \n",
    "# 스트림이란 데이터와 프로그램과 연결할 수 있는 통로 '단방향성'의 특\n",
    "open('test.txt') "
   ]
  },
  {
   "cell_type": "code",
   "execution_count": null,
   "id": "e87adcaf",
   "metadata": {},
   "outputs": [],
   "source": []
  }
 ],
 "metadata": {
  "kernelspec": {
   "display_name": "Python 3 (ipykernel)",
   "language": "python",
   "name": "python3"
  },
  "language_info": {
   "codemirror_mode": {
    "name": "ipython",
    "version": 3
   },
   "file_extension": ".py",
   "mimetype": "text/x-python",
   "name": "python",
   "nbconvert_exporter": "python",
   "pygments_lexer": "ipython3",
   "version": "3.7.13"
  }
 },
 "nbformat": 4,
 "nbformat_minor": 5
}
