{
 "cells": [
  {
   "cell_type": "code",
   "execution_count": 3,
   "id": "bc87a6c5",
   "metadata": {},
   "outputs": [],
   "source": [
    "# file = open('test.txt', 'wt')\n",
    "\n",
    "with open('test.txt','w+t') as file : # file로 사용 가능! \n",
    "    file.write('Python')\n",
    "# + : 읽기 쓰기용으로 파일 읽기 \n",
    "# w : 주의!! w는 기존의 내용을 지우고 삽입한다. "
   ]
  },
  {
   "cell_type": "code",
   "execution_count": 5,
   "id": "e87adcaf",
   "metadata": {},
   "outputs": [],
   "source": [
    "with open('test.txt','a+t') as file :\n",
    "    file.write('! 가보자고!!')"
   ]
  },
  {
   "cell_type": "code",
   "execution_count": 6,
   "id": "d5178969",
   "metadata": {},
   "outputs": [
    {
     "name": "stdout",
     "output_type": "stream",
     "text": [
      "Python! 가보자고!!\n"
     ]
    }
   ],
   "source": [
    "with open('test.txt','r+t') as file : # 읽기쓰기 모드지만 읽기의 영향이 더 강하다. (단지 가독성 적인 측면)\n",
    "    str = file.read()\n",
    "    print(str)"
   ]
  },
  {
   "cell_type": "markdown",
   "id": "536c2771",
   "metadata": {},
   "source": [
    "## 텍스트 파일 읽기 / 쓰기\n",
    "#### 1. 문자열을 담은 리스트를 파일에 쓰는 writelines()메서드 "
   ]
  },
  {
   "cell_type": "code",
   "execution_count": 13,
   "id": "294c9abf",
   "metadata": {},
   "outputs": [],
   "source": [
    "lines = [\"we'll find a way we always have - Interstellar\\n\",\n",
    "         \"I'll find you and I'll kill you - Taken\\n\",\n",
    "         \"I'll be back - Terminator 2\\n\"]\n",
    "\n",
    "with open('movie_quotes.txt','w') as file : \n",
    "    for line in lines :#for을 통해 하나씩 꺼내와서 line에 담는다.\n",
    "        file.write(line)  \n",
    "        "
   ]
  },
  {
   "cell_type": "code",
   "execution_count": 12,
   "id": "d07ed6a8",
   "metadata": {},
   "outputs": [],
   "source": [
    "lines = [\"we'll find a way we always have - Interstellar\\n\",\n",
    "         \"I'll find you and I'll kill you - Taken\\n\",\n",
    "         \"I'll be back - Terminator 2\\n\"]\n",
    "\n",
    "with open('movie_quotes2.txt','w') as file : \n",
    "    file.writelines(lines) #for가 아닌 한 줄로 실행."
   ]
  },
  {
   "cell_type": "markdown",
   "id": "5d921617",
   "metadata": {},
   "source": [
    "## 텍스트 파일 읽기 / 쓰기\n",
    "#### 2. 줄 단위로 텍스트를 읽는 readline() & readlines() 메서드 "
   ]
  },
  {
   "cell_type": "code",
   "execution_count": 20,
   "id": "879374d1",
   "metadata": {},
   "outputs": [
    {
     "name": "stdout",
     "output_type": "stream",
     "text": [
      "we'll find a way we always have - Interstellar\n",
      "I'll find you and I'll kill you - Taken\n",
      "I'll be back - Terminator 2\n"
     ]
    }
   ],
   "source": [
    "lines = [\"we'll find a way we always have - Interstellar\\n\",\n",
    "         \"I'll find you and I'll kill you - Taken\\n\",\n",
    "         \"I'll be back - Terminator 2\\n\"]\n",
    "\n",
    "with open('movie_quotes.txt','r') as file : \n",
    "    line = file.readline()\n",
    "    \n",
    "    while line != '' : # 빈 문자열까지 반복_ 한자씩 읽어와서 출력함으로 매우 많은 반복이 이루어짐. \n",
    "        print(line, end = '') # 줄을 바꾸지 않고 읽어 온다.\n",
    "        line = file.readline()"
   ]
  },
  {
   "cell_type": "code",
   "execution_count": null,
   "id": "1030c8dc",
   "metadata": {},
   "outputs": [],
   "source": [
    "lines = [\"we'll find a way we always have - Interstellar\\n\",\n",
    "         \"I'll find you and I'll kill you - Taken\\n\",\n",
    "         \"I'll be back - Terminator 2\\n\"]\n",
    "\n",
    "with open('movie_quotes.txt','r') as file : \n",
    "    lines = file.readlines()\n",
    "    line = '' #이전에 담아둔 ㅂ\n",
    "    \n",
    "    while line != '' : # 빈 문자열까지 반복_ 한자씩 읽어와서 출력함으로 매우 많은 반복이 이루어짐. \n",
    "        print(line, end = '') # 줄을 바꾸지 않고 읽어 온다.\n",
    "        line = file.readline()"
   ]
  }
 ],
 "metadata": {
  "kernelspec": {
   "display_name": "Python 3 (ipykernel)",
   "language": "python",
   "name": "python3"
  },
  "language_info": {
   "codemirror_mode": {
    "name": "ipython",
    "version": 3
   },
   "file_extension": ".py",
   "mimetype": "text/x-python",
   "name": "python",
   "nbconvert_exporter": "python",
   "pygments_lexer": "ipython3",
   "version": "3.7.13"
  }
 },
 "nbformat": 4,
 "nbformat_minor": 5
}
